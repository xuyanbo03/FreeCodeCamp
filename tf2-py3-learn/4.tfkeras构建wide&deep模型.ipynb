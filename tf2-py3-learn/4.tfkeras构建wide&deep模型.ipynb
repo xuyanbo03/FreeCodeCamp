{
 "cells": [
  {
   "cell_type": "markdown",
   "metadata": {},
   "source": [
    "# 第四次实战：TensorFlow-Keras构建wide&deep回归模型"
   ]
  },
  {
   "cell_type": "code",
   "execution_count": 1,
   "metadata": {},
   "outputs": [
    {
     "name": "stdout",
     "output_type": "stream",
     "text": [
      "2.0.0\n",
      "sys.version_info(major=3, minor=6, micro=10, releaselevel='final', serial=0)\n",
      "matplotlib 3.1.2\n",
      "numpy 1.18.1\n",
      "pandas 0.25.3\n",
      "sklearn 0.22.1\n",
      "tensorflow 2.0.0\n",
      "tensorflow_core.keras 2.2.4-tf\n"
     ]
    }
   ],
   "source": [
    "# 导入\n",
    "import matplotlib as mpl\n",
    "import matplotlib.pyplot as plt\n",
    "%matplotlib inline\n",
    "import numpy as np\n",
    "import sklearn\n",
    "import pandas as pd\n",
    "import os\n",
    "import sys\n",
    "import time\n",
    "import tensorflow as tf\n",
    "from tensorflow import keras\n",
    "\n",
    "print(tf.__version__)\n",
    "print(sys.version_info)\n",
    "for module in mpl,np,pd,sklearn,tf,keras:\n",
    "    print(module.__name__,module.__version__)"
   ]
  },
  {
   "cell_type": "markdown",
   "metadata": {},
   "source": [
    "## 实战开始"
   ]
  },
  {
   "cell_type": "markdown",
   "metadata": {},
   "source": [
    "### 数据读取和展示"
   ]
  },
  {
   "cell_type": "code",
   "execution_count": 2,
   "metadata": {},
   "outputs": [
    {
     "name": "stdout",
     "output_type": "stream",
     "text": [
      ".. _california_housing_dataset:\n",
      "\n",
      "California Housing dataset\n",
      "--------------------------\n",
      "\n",
      "**Data Set Characteristics:**\n",
      "\n",
      "    :Number of Instances: 20640\n",
      "\n",
      "    :Number of Attributes: 8 numeric, predictive attributes and the target\n",
      "\n",
      "    :Attribute Information:\n",
      "        - MedInc        median income in block\n",
      "        - HouseAge      median house age in block\n",
      "        - AveRooms      average number of rooms\n",
      "        - AveBedrms     average number of bedrooms\n",
      "        - Population    block population\n",
      "        - AveOccup      average house occupancy\n",
      "        - Latitude      house block latitude\n",
      "        - Longitude     house block longitude\n",
      "\n",
      "    :Missing Attribute Values: None\n",
      "\n",
      "This dataset was obtained from the StatLib repository.\n",
      "http://lib.stat.cmu.edu/datasets/\n",
      "\n",
      "The target variable is the median house value for California districts.\n",
      "\n",
      "This dataset was derived from the 1990 U.S. census, using one row per census\n",
      "block group. A block group is the smallest geographical unit for which the U.S.\n",
      "Census Bureau publishes sample data (a block group typically has a population\n",
      "of 600 to 3,000 people).\n",
      "\n",
      "It can be downloaded/loaded using the\n",
      ":func:`sklearn.datasets.fetch_california_housing` function.\n",
      "\n",
      ".. topic:: References\n",
      "\n",
      "    - Pace, R. Kelley and Ronald Barry, Sparse Spatial Autoregressions,\n",
      "      Statistics and Probability Letters, 33 (1997) 291-297\n",
      "\n",
      "(20640, 8)\n",
      "(20640,)\n"
     ]
    }
   ],
   "source": [
    "# 导入数据集 房价预测\n",
    "from sklearn.datasets import fetch_california_housing\n",
    "\n",
    "housing = fetch_california_housing()\n",
    "print(housing.DESCR)\n",
    "print(housing.data.shape)\n",
    "print(housing.target.shape)"
   ]
  },
  {
   "cell_type": "code",
   "execution_count": 3,
   "metadata": {},
   "outputs": [
    {
     "name": "stdout",
     "output_type": "stream",
     "text": [
      "(11610, 8) (11610,)\n",
      "(3870, 8) (3870,)\n",
      "(5160, 8) (5160,)\n"
     ]
    }
   ],
   "source": [
    "# 切分数据集\n",
    "from sklearn.model_selection import train_test_split\n",
    "\n",
    "x_train_all,x_test,y_train_all,y_test = \n",
    "    train_test_split(housing.data,housing.target,random_state=7)\n",
    "x_train,x_valid,y_train,y_valid = \n",
    "    train_test_split(x_train_all,y_train_all,random_state=11)\n",
    "\n",
    "print(x_train.shape,y_train.shape)\n",
    "print(x_valid.shape,y_valid.shape)\n",
    "print(x_test.shape,y_test.shape)"
   ]
  },
  {
   "cell_type": "code",
   "execution_count": 4,
   "metadata": {},
   "outputs": [],
   "source": [
    "# 对数据进行归一化\n",
    "from sklearn.preprocessing import StandardScaler\n",
    "\n",
    "scaler = StandardScaler()\n",
    "x_train_scaled = scaler.fit_transform(x_train)\n",
    "x_valid_scaled = scaler.transform(x_valid)\n",
    "x_test_scaled = scaler.transform(x_test)"
   ]
  },
  {
   "cell_type": "markdown",
   "metadata": {},
   "source": [
    "### 模型构建\n",
    "#### 函数API构建Wide&Deep模型\n",
    "使用函数式API/功能API构建Wide&Deep模型\n",
    "\n",
    "函数式API：复合函数 f(x) = h(g(x))"
   ]
  },
  {
   "cell_type": "code",
   "execution_count": 8,
   "metadata": {},
   "outputs": [
    {
     "name": "stdout",
     "output_type": "stream",
     "text": [
      "Model: \"model_1\"\n",
      "__________________________________________________________________________________________________\n",
      "Layer (type)                    Output Shape         Param #     Connected to                     \n",
      "==================================================================================================\n",
      "input_2 (InputLayer)            [(None, 8)]          0                                            \n",
      "__________________________________________________________________________________________________\n",
      "dense_3 (Dense)                 (None, 30)           270         input_2[0][0]                    \n",
      "__________________________________________________________________________________________________\n",
      "dense_4 (Dense)                 (None, 30)           930         dense_3[0][0]                    \n",
      "__________________________________________________________________________________________________\n",
      "concatenate_1 (Concatenate)     (None, 38)           0           input_2[0][0]                    \n",
      "                                                                 dense_4[0][0]                    \n",
      "__________________________________________________________________________________________________\n",
      "dense_5 (Dense)                 (None, 1)            39          concatenate_1[0][0]              \n",
      "==================================================================================================\n",
      "Total params: 1,239\n",
      "Trainable params: 1,239\n",
      "Non-trainable params: 0\n",
      "__________________________________________________________________________________________________\n"
     ]
    }
   ],
   "source": [
    "# 构建模型\n",
    "input = keras.layers.Input(shape=x_train.shape[1:])\n",
    "hidden1 = keras.layers.Dense(30, activation='relu')(input)\n",
    "hidden2 = keras.layers.Dense(30, activation='relu')(hidden1)\n",
    "concat = keras.layers.concatenate([input,hidden2])\n",
    "output = keras.layers.Dense(1)(concat)\n",
    "\n",
    "#固化模型\n",
    "model = keras.models.Model(inputs=[input],outputs=[output])\n",
    "model.summary()\n",
    "\n",
    "# 模型编译\n",
    "model.compile(loss='mean_squared_error',optimizer='adam')\n",
    "\n",
    "# 回调函数\n",
    "callbacks = [keras.callbacks.EarlyStopping(patience=5,min_delta=1e-3)]"
   ]
  },
  {
   "cell_type": "code",
   "execution_count": 9,
   "metadata": {},
   "outputs": [
    {
     "name": "stdout",
     "output_type": "stream",
     "text": [
      "Train on 11610 samples, validate on 3870 samples\n",
      "Epoch 1/100\n",
      "11610/11610 [==============================] - 2s 150us/sample - loss: 1.6579 - val_loss: 0.7068\n",
      "Epoch 2/100\n",
      "11610/11610 [==============================] - 1s 121us/sample - loss: 0.5516 - val_loss: 0.4951\n",
      "Epoch 3/100\n",
      "11610/11610 [==============================] - 1s 121us/sample - loss: 0.4316 - val_loss: 0.4438\n",
      "Epoch 4/100\n",
      "11610/11610 [==============================] - 1s 121us/sample - loss: 0.4032 - val_loss: 0.3999\n",
      "Epoch 5/100\n",
      "11610/11610 [==============================] - 1s 121us/sample - loss: 0.3753 - val_loss: 0.3808\n",
      "Epoch 6/100\n",
      "11610/11610 [==============================] - 1s 120us/sample - loss: 0.3644 - val_loss: 0.3753\n",
      "Epoch 7/100\n",
      "11610/11610 [==============================] - 2s 130us/sample - loss: 0.3550 - val_loss: 0.3599\n",
      "Epoch 8/100\n",
      "11610/11610 [==============================] - 1s 119us/sample - loss: 0.3447 - val_loss: 0.3550\n",
      "Epoch 9/100\n",
      "11610/11610 [==============================] - 1s 121us/sample - loss: 0.3672 - val_loss: 0.3548\n",
      "Epoch 10/100\n",
      "11610/11610 [==============================] - 1s 122us/sample - loss: 0.3439 - val_loss: 0.3328\n",
      "Epoch 11/100\n",
      "11610/11610 [==============================] - 1s 122us/sample - loss: 0.3178 - val_loss: 0.3396\n",
      "Epoch 12/100\n",
      "11610/11610 [==============================] - 1s 121us/sample - loss: 0.3156 - val_loss: 0.3246\n",
      "Epoch 13/100\n",
      "11610/11610 [==============================] - 1s 122us/sample - loss: 0.3198 - val_loss: 0.3290\n",
      "Epoch 14/100\n",
      "11610/11610 [==============================] - 1s 122us/sample - loss: 0.3128 - val_loss: 0.3143\n",
      "Epoch 15/100\n",
      "11610/11610 [==============================] - 1s 121us/sample - loss: 0.3059 - val_loss: 0.3192\n",
      "Epoch 16/100\n",
      "11610/11610 [==============================] - 1s 122us/sample - loss: 0.3025 - val_loss: 0.3171\n",
      "Epoch 17/100\n",
      "11610/11610 [==============================] - 1s 123us/sample - loss: 0.3099 - val_loss: 0.3200\n",
      "Epoch 18/100\n",
      "11610/11610 [==============================] - 1s 124us/sample - loss: 0.3040 - val_loss: 0.4211\n",
      "Epoch 19/100\n",
      "11610/11610 [==============================] - 1s 123us/sample - loss: 0.3180 - val_loss: 0.3157\n"
     ]
    }
   ],
   "source": [
    "# 模型训练\n",
    "history = model.fit(x_train_scaled,y_train,epochs=100,\n",
    "                    validation_data=(x_valid_scaled,y_valid),\n",
    "                    callbacks=callbacks)"
   ]
  },
  {
   "cell_type": "code",
   "execution_count": 10,
   "metadata": {},
   "outputs": [
    {
     "data": {
      "image/png": "[encoded data removed]",
      "text/plain": [
       "<Figure size 576x360 with 1 Axes>"
      ]
     },
     "metadata": {
      "needs_background": "light"
     },
     "output_type": "display_data"
    }
   ],
   "source": [
    "# 画图展示变化，打印学习曲线\n",
    "def plot_learning_curves(history):\n",
    "    pd.DataFrame(history.history).plot(figsize=(8,5))\n",
    "    plt.grid(True)\n",
    "    plt.gca().set_ylim(0,1)\n",
    "    plt.show()\n",
    "    \n",
    "plot_learning_curves(history)"
   ]
  },
  {
   "cell_type": "code",
   "execution_count": null,
   "metadata": {
    "scrolled": true
   },
   "outputs": [],
   "source": [
    "# 在测试集上进行指标评估\n",
    "model.evaluate(x_test_scaled,y_test)"
   ]
  },
  {
   "cell_type": "markdown",
   "metadata": {},
   "source": [
    "#### 子类API构建Wide&Deep模型"
   ]
  },
  {
   "cell_type": "code",
   "execution_count": 12,
   "metadata": {},
   "outputs": [
    {
     "name": "stdout",
     "output_type": "stream",
     "text": [
      "Model: \"wide_deep_model\"\n",
      "_________________________________________________________________\n",
      "Layer (type)                 Output Shape              Param #   \n",
      "=================================================================\n",
      "dense_6 (Dense)              multiple                  270       \n",
      "_________________________________________________________________\n",
      "dense_7 (Dense)              multiple                  930       \n",
      "_________________________________________________________________\n",
      "dense_8 (Dense)              multiple                  39        \n",
      "=================================================================\n",
      "Total params: 1,239\n",
      "Trainable params: 1,239\n",
      "Non-trainable params: 0\n",
      "_________________________________________________________________\n"
     ]
    }
   ],
   "source": [
    "# 子类API构建模型\n",
    "class WideDeepModel(keras.models.Model):\n",
    "    def __init__(self):\n",
    "        super(WideDeepModel,self).__init__()\n",
    "        \"\"\"定义模型的层次\"\"\"\n",
    "        self.hidden1_layer = keras.layers.Dense(30, activation='relu')\n",
    "        self.hidden2_layer = keras.layers.Dense(30, activation='relu')\n",
    "        self.output_layer = keras.layers.Dense(1)\n",
    "        \n",
    "    def call(self,input):\n",
    "        \"\"\"完成模型的正向计算\"\"\"\n",
    "        hidden1 = self.hidden1_layer(input)\n",
    "        hidden2 = self.hidden2_layer(hidden1)\n",
    "        concat = keras.layers.concatenate([input,hidden2])\n",
    "        output = self.output_layer(concat)\n",
    "        return output\n",
    "    \n",
    "# 使用子类，固化模型\n",
    "model = WideDeepModel()\n",
    "# 另外一种写法\n",
    "# model = keras.models.Sequential([WideDeepModel(),])\n",
    "model.build(input_shape=(None,8))\n",
    "model.summary()\n",
    "\n",
    "# 模型编译\n",
    "model.compile(loss='mean_squared_error',optimizer='adam')\n",
    "\n",
    "# 回调函数\n",
    "callbacks = [keras.callbacks.EarlyStopping(patience=5,min_delta=1e-3)]"
   ]
  },
  {
   "cell_type": "code",
   "execution_count": 13,
   "metadata": {},
   "outputs": [
    {
     "name": "stdout",
     "output_type": "stream",
     "text": [
      "Train on 11610 samples, validate on 3870 samples\n",
      "Epoch 1/100\n",
      "11610/11610 [==============================] - 2s 186us/sample - loss: 1.0927 - val_loss: 0.5573\n",
      "Epoch 2/100\n",
      "11610/11610 [==============================] - 1s 126us/sample - loss: 0.4606 - val_loss: 0.4489\n",
      "Epoch 3/100\n",
      "11610/11610 [==============================] - 1s 122us/sample - loss: 0.4099 - val_loss: 0.4260\n",
      "Epoch 4/100\n",
      "11610/11610 [==============================] - 1s 121us/sample - loss: 0.3853 - val_loss: 0.3916\n",
      "Epoch 5/100\n",
      "11610/11610 [==============================] - 1s 118us/sample - loss: 0.4051 - val_loss: 0.3800\n",
      "Epoch 6/100\n",
      "11610/11610 [==============================] - 1s 119us/sample - loss: 0.3831 - val_loss: 0.3714\n",
      "Epoch 7/100\n",
      "11610/11610 [==============================] - 1s 121us/sample - loss: 0.3557 - val_loss: 0.3586\n",
      "Epoch 8/100\n",
      "11610/11610 [==============================] - 1s 123us/sample - loss: 0.3464 - val_loss: 0.3619\n",
      "Epoch 9/100\n",
      "11610/11610 [==============================] - 1s 121us/sample - loss: 0.3387 - val_loss: 0.3705\n",
      "Epoch 10/100\n",
      "11610/11610 [==============================] - 1s 117us/sample - loss: 0.3377 - val_loss: 0.3410\n",
      "Epoch 11/100\n",
      "11610/11610 [==============================] - 1s 124us/sample - loss: 0.3284 - val_loss: 0.3411\n",
      "Epoch 12/100\n",
      "11610/11610 [==============================] - 1s 122us/sample - loss: 0.3278 - val_loss: 0.3294\n",
      "Epoch 13/100\n",
      "11610/11610 [==============================] - 1s 119us/sample - loss: 0.3154 - val_loss: 0.3259\n",
      "Epoch 14/100\n",
      "11610/11610 [==============================] - 1s 119us/sample - loss: 0.3097 - val_loss: 0.3360\n",
      "Epoch 15/100\n",
      "11610/11610 [==============================] - 1s 123us/sample - loss: 0.3144 - val_loss: 0.3238\n",
      "Epoch 16/100\n",
      "11610/11610 [==============================] - 1s 122us/sample - loss: 0.3055 - val_loss: 0.3320\n",
      "Epoch 17/100\n",
      "11610/11610 [==============================] - 1s 121us/sample - loss: 0.3137 - val_loss: 0.3104\n",
      "Epoch 18/100\n",
      "11610/11610 [==============================] - 1s 120us/sample - loss: 0.2981 - val_loss: 0.3245\n",
      "Epoch 19/100\n",
      "11610/11610 [==============================] - 1s 123us/sample - loss: 0.2956 - val_loss: 0.3175\n",
      "Epoch 20/100\n",
      "11610/11610 [==============================] - 1s 123us/sample - loss: 0.2978 - val_loss: 0.3153\n",
      "Epoch 21/100\n",
      "11610/11610 [==============================] - 1s 122us/sample - loss: 0.2966 - val_loss: 0.3133\n",
      "Epoch 22/100\n",
      "11610/11610 [==============================] - 1s 122us/sample - loss: 0.2899 - val_loss: 0.3092\n",
      "Epoch 23/100\n",
      "11610/11610 [==============================] - 1s 116us/sample - loss: 0.2921 - val_loss: 0.3243\n",
      "Epoch 24/100\n",
      "11610/11610 [==============================] - 1s 118us/sample - loss: 0.2961 - val_loss: 0.3091\n",
      "Epoch 25/100\n",
      "11610/11610 [==============================] - 1s 118us/sample - loss: 0.2918 - val_loss: 0.3091\n",
      "Epoch 26/100\n",
      "11610/11610 [==============================] - 1s 121us/sample - loss: 0.2882 - val_loss: 0.3127\n",
      "Epoch 27/100\n",
      "11610/11610 [==============================] - 1s 119us/sample - loss: 0.2814 - val_loss: 0.3048\n",
      "Epoch 28/100\n",
      "11610/11610 [==============================] - 1s 122us/sample - loss: 0.2807 - val_loss: 0.3028\n",
      "Epoch 29/100\n",
      "11610/11610 [==============================] - 1s 120us/sample - loss: 0.2833 - val_loss: 0.3023\n",
      "Epoch 30/100\n",
      "11610/11610 [==============================] - 1s 118us/sample - loss: 0.2805 - val_loss: 0.2964\n",
      "Epoch 31/100\n",
      "11610/11610 [==============================] - 1s 119us/sample - loss: 0.2784 - val_loss: 0.3014\n",
      "Epoch 32/100\n",
      "11610/11610 [==============================] - 1s 123us/sample - loss: 0.2783 - val_loss: 0.3009\n",
      "Epoch 33/100\n",
      "11610/11610 [==============================] - 1s 128us/sample - loss: 0.2795 - val_loss: 0.2991\n",
      "Epoch 34/100\n",
      "11610/11610 [==============================] - 1s 127us/sample - loss: 0.2823 - val_loss: 0.2949\n",
      "Epoch 35/100\n",
      "11610/11610 [==============================] - 1s 127us/sample - loss: 0.2749 - val_loss: 0.3003\n",
      "Epoch 36/100\n",
      "11610/11610 [==============================] - 1s 127us/sample - loss: 0.2784 - val_loss: 0.2998\n",
      "Epoch 37/100\n",
      "11610/11610 [==============================] - 1s 128us/sample - loss: 0.2735 - val_loss: 0.2964\n",
      "Epoch 38/100\n",
      "11610/11610 [==============================] - 2s 130us/sample - loss: 0.2738 - val_loss: 0.2930\n",
      "Epoch 39/100\n",
      "11610/11610 [==============================] - 2s 132us/sample - loss: 0.2779 - val_loss: 0.2920\n",
      "Epoch 40/100\n",
      "11610/11610 [==============================] - 2s 132us/sample - loss: 0.2731 - val_loss: 0.2921\n",
      "Epoch 41/100\n",
      "11610/11610 [==============================] - 1s 123us/sample - loss: 0.2717 - val_loss: 0.2930\n",
      "Epoch 42/100\n",
      "11610/11610 [==============================] - 2s 131us/sample - loss: 0.2729 - val_loss: 0.2970\n",
      "Epoch 43/100\n",
      "11610/11610 [==============================] - 1s 128us/sample - loss: 0.2731 - val_loss: 0.2996\n"
     ]
    }
   ],
   "source": [
    "# 模型训练\n",
    "history_subclass = model.fit(x_train_scaled,y_train,epochs=100,\n",
    "                    validation_data=(x_valid_scaled,y_valid),\n",
    "                    callbacks=callbacks)"
   ]
  },
  {
   "cell_type": "code",
   "execution_count": 14,
   "metadata": {},
   "outputs": [
    {
     "data": {
      "image/png": "[encoded data removed]",
      "text/plain": [
       "<Figure size 576x360 with 1 Axes>"
      ]
     },
     "metadata": {
      "needs_background": "light"
     },
     "output_type": "display_data"
    }
   ],
   "source": [
    "plot_learning_curves(history_subclass)"
   ]
  },
  {
   "cell_type": "code",
   "execution_count": null,
   "metadata": {
    "scrolled": true
   },
   "outputs": [],
   "source": [
    "# 测试集上进行指标评估\n",
    "model.evaluate(x_test_scaled,y_test)"
   ]
  },
  {
   "cell_type": "markdown",
   "metadata": {},
   "source": [
    "#### 多输入构建模型"
   ]
  },
  {
   "cell_type": "code",
   "execution_count": 17,
   "metadata": {},
   "outputs": [
    {
     "name": "stdout",
     "output_type": "stream",
     "text": [
      "Model: \"model_2\"\n",
      "__________________________________________________________________________________________________\n",
      "Layer (type)                    Output Shape         Param #     Connected to                     \n",
      "==================================================================================================\n",
      "input_4 (InputLayer)            [(None, 6)]          0                                            \n",
      "__________________________________________________________________________________________________\n",
      "dense_9 (Dense)                 (None, 30)           210         input_4[0][0]                    \n",
      "__________________________________________________________________________________________________\n",
      "input_3 (InputLayer)            [(None, 5)]          0                                            \n",
      "__________________________________________________________________________________________________\n",
      "dense_10 (Dense)                (None, 30)           930         dense_9[0][0]                    \n",
      "__________________________________________________________________________________________________\n",
      "concatenate_2 (Concatenate)     (None, 35)           0           input_3[0][0]                    \n",
      "                                                                 dense_10[0][0]                   \n",
      "__________________________________________________________________________________________________\n",
      "dense_11 (Dense)                (None, 1)            36          concatenate_2[0][0]              \n",
      "==================================================================================================\n",
      "Total params: 1,176\n",
      "Trainable params: 1,176\n",
      "Non-trainable params: 0\n",
      "__________________________________________________________________________________________________\n"
     ]
    }
   ],
   "source": [
    "# 构建模型\n",
    "input_wide = keras.layers.Input(shape=[5])\n",
    "input_deep = keras.layers.Input(shape=[6])\n",
    "hidden1 = keras.layers.Dense(30, activation='relu')(input_deep)\n",
    "hidden2 = keras.layers.Dense(30, activation='relu')(hidden1)\n",
    "concat = keras.layers.concatenate([input_wide,hidden2])\n",
    "output = keras.layers.Dense(1)(concat)\n",
    "\n",
    "#固化模型\n",
    "model = keras.models.Model(inputs=[input_wide,input_deep],outputs=[output])\n",
    "model.summary()\n",
    "\n",
    "# 模型编译\n",
    "model.compile(loss='mean_squared_error',optimizer='adam')\n",
    "\n",
    "# 回调函数\n",
    "callbacks = [keras.callbacks.EarlyStopping(patience=5,min_delta=1e-3)]"
   ]
  },
  {
   "cell_type": "code",
   "execution_count": 22,
   "metadata": {},
   "outputs": [
    {
     "name": "stdout",
     "output_type": "stream",
     "text": [
      "Train on 11610 samples, validate on 3870 samples\n",
      "Epoch 1/100\n",
      "11610/11610 [==============================] - 2s 191us/sample - loss: 1.4356 - val_loss: 0.6161\n",
      "Epoch 2/100\n",
      "11610/11610 [==============================] - 1s 123us/sample - loss: 0.4876 - val_loss: 0.4660\n",
      "Epoch 3/100\n",
      "11610/11610 [==============================] - 1s 127us/sample - loss: 0.4206 - val_loss: 0.4248\n",
      "Epoch 4/100\n",
      "11610/11610 [==============================] - 2s 133us/sample - loss: 0.3989 - val_loss: 0.4111\n",
      "Epoch 5/100\n",
      "11610/11610 [==============================] - 2s 134us/sample - loss: 0.3878 - val_loss: 0.3968\n",
      "Epoch 6/100\n",
      "11610/11610 [==============================] - 2s 135us/sample - loss: 0.3768 - val_loss: 0.3810\n",
      "Epoch 7/100\n",
      "11610/11610 [==============================] - 2s 138us/sample - loss: 0.3634 - val_loss: 0.3790\n",
      "Epoch 8/100\n",
      "11610/11610 [==============================] - 2s 138us/sample - loss: 0.3649 - val_loss: 0.3871\n",
      "Epoch 9/100\n",
      "11610/11610 [==============================] - 2s 140us/sample - loss: 0.3622 - val_loss: 0.4068\n",
      "Epoch 10/100\n",
      "11610/11610 [==============================] - 2s 140us/sample - loss: 0.3496 - val_loss: 0.3607\n",
      "Epoch 11/100\n",
      "11610/11610 [==============================] - 2s 140us/sample - loss: 0.3466 - val_loss: 0.3556\n",
      "Epoch 12/100\n",
      "11610/11610 [==============================] - 2s 142us/sample - loss: 0.3412 - val_loss: 0.3522\n",
      "Epoch 13/100\n",
      "11610/11610 [==============================] - 2s 134us/sample - loss: 0.3425 - val_loss: 0.3557\n",
      "Epoch 14/100\n",
      "11610/11610 [==============================] - 2s 131us/sample - loss: 0.3403 - val_loss: 0.3474\n",
      "Epoch 15/100\n",
      "11610/11610 [==============================] - 2s 136us/sample - loss: 0.3350 - val_loss: 0.3447\n",
      "Epoch 16/100\n",
      "11610/11610 [==============================] - 2s 133us/sample - loss: 0.3301 - val_loss: 0.3508\n",
      "Epoch 17/100\n",
      "11610/11610 [==============================] - 2s 131us/sample - loss: 0.3329 - val_loss: 0.3383\n",
      "Epoch 18/100\n",
      "11610/11610 [==============================] - 2s 139us/sample - loss: 0.3363 - val_loss: 0.3449\n",
      "Epoch 19/100\n",
      "11610/11610 [==============================] - 2s 134us/sample - loss: 0.3266 - val_loss: 0.3388\n",
      "Epoch 20/100\n",
      "11610/11610 [==============================] - 2s 132us/sample - loss: 0.3233 - val_loss: 0.3390\n",
      "Epoch 21/100\n",
      "11610/11610 [==============================] - 2s 131us/sample - loss: 0.3222 - val_loss: 0.3355\n",
      "Epoch 22/100\n",
      "11610/11610 [==============================] - 2s 129us/sample - loss: 0.3224 - val_loss: 0.3993\n",
      "Epoch 23/100\n",
      "11610/11610 [==============================] - 1s 128us/sample - loss: 0.3221 - val_loss: 0.3437\n",
      "Epoch 24/100\n",
      "11610/11610 [==============================] - 1s 128us/sample - loss: 0.3179 - val_loss: 0.3380\n",
      "Epoch 25/100\n",
      "11610/11610 [==============================] - 2s 132us/sample - loss: 0.3237 - val_loss: 0.3306\n",
      "Epoch 26/100\n",
      "11610/11610 [==============================] - 1s 127us/sample - loss: 0.3152 - val_loss: 0.3335\n",
      "Epoch 27/100\n",
      "11610/11610 [==============================] - 1s 125us/sample - loss: 0.3149 - val_loss: 0.3294\n",
      "Epoch 28/100\n",
      "11610/11610 [==============================] - 1s 124us/sample - loss: 0.3123 - val_loss: 0.3300\n",
      "Epoch 29/100\n",
      "11610/11610 [==============================] - 1s 127us/sample - loss: 0.3127 - val_loss: 0.3308\n",
      "Epoch 30/100\n",
      "11610/11610 [==============================] - 1s 127us/sample - loss: 0.3180 - val_loss: 0.3356\n",
      "Epoch 31/100\n",
      "11610/11610 [==============================] - 1s 129us/sample - loss: 0.3102 - val_loss: 0.3235\n",
      "Epoch 32/100\n",
      "11610/11610 [==============================] - 1s 128us/sample - loss: 0.3101 - val_loss: 0.3267\n",
      "Epoch 33/100\n",
      "11610/11610 [==============================] - 1s 127us/sample - loss: 0.3086 - val_loss: 0.3254\n",
      "Epoch 34/100\n",
      "11610/11610 [==============================] - 1s 125us/sample - loss: 0.3093 - val_loss: 0.3244\n",
      "Epoch 35/100\n",
      "11610/11610 [==============================] - 1s 127us/sample - loss: 0.3072 - val_loss: 0.3263\n",
      "Epoch 36/100\n",
      "11610/11610 [==============================] - 1s 126us/sample - loss: 0.3078 - val_loss: 0.3252\n"
     ]
    }
   ],
   "source": [
    "x_train_scaled_wide = x_train_scaled[:,:5]\n",
    "x_train_scaled_deep = x_train_scaled[:,2:]\n",
    "x_valid_scaled_wide = x_valid_scaled[:,:5]\n",
    "x_valid_scaled_deep = x_valid_scaled[:,2:]\n",
    "x_test_scaled_wide = x_test_scaled[:,:5]\n",
    "x_test_scaled_deep = x_test_scaled[:,2:]\n",
    "\n",
    "# 模型训练\n",
    "history_mutil_input = model.fit([x_train_scaled_wide,x_train_scaled_deep],\n",
    "                                y_train,\n",
    "                                validation_data=([x_valid_scaled_wide,x_valid_scaled_deep],\n",
    "                                                 y_valid),\n",
    "                                epochs=100,\n",
    "                                callbacks=callbacks)"
   ]
  },
  {
   "cell_type": "code",
   "execution_count": 23,
   "metadata": {},
   "outputs": [
    {
     "data": {
      "image/png": "[encoded data removed]",
      "text/plain": [
       "<Figure size 576x360 with 1 Axes>"
      ]
     },
     "metadata": {
      "needs_background": "light"
     },
     "output_type": "display_data"
    }
   ],
   "source": [
    "plot_learning_curves(history_mutil_input)"
   ]
  },
  {
   "cell_type": "code",
   "execution_count": null,
   "metadata": {
    "scrolled": true
   },
   "outputs": [],
   "source": [
    "# 测试集上进行指标评估\n",
    "model.evaluate([x_test_scaled_wide,x_test_scaled_deep],y_test)"
   ]
  },
  {
   "cell_type": "markdown",
   "metadata": {},
   "source": [
    "#### 多输出实战"
   ]
  },
  {
   "cell_type": "code",
   "execution_count": 25,
   "metadata": {},
   "outputs": [
    {
     "name": "stdout",
     "output_type": "stream",
     "text": [
      "Model: \"model_3\"\n",
      "__________________________________________________________________________________________________\n",
      "Layer (type)                    Output Shape         Param #     Connected to                     \n",
      "==================================================================================================\n",
      "input_6 (InputLayer)            [(None, 6)]          0                                            \n",
      "__________________________________________________________________________________________________\n",
      "dense_12 (Dense)                (None, 30)           210         input_6[0][0]                    \n",
      "__________________________________________________________________________________________________\n",
      "input_5 (InputLayer)            [(None, 5)]          0                                            \n",
      "__________________________________________________________________________________________________\n",
      "dense_13 (Dense)                (None, 30)           930         dense_12[0][0]                   \n",
      "__________________________________________________________________________________________________\n",
      "concatenate_3 (Concatenate)     (None, 35)           0           input_5[0][0]                    \n",
      "                                                                 dense_13[0][0]                   \n",
      "__________________________________________________________________________________________________\n",
      "dense_14 (Dense)                (None, 1)            36          concatenate_3[0][0]              \n",
      "__________________________________________________________________________________________________\n",
      "dense_15 (Dense)                (None, 1)            31          dense_13[0][0]                   \n",
      "==================================================================================================\n",
      "Total params: 1,207\n",
      "Trainable params: 1,207\n",
      "Non-trainable params: 0\n",
      "__________________________________________________________________________________________________\n"
     ]
    }
   ],
   "source": [
    "# 构建模型\n",
    "input_wide = keras.layers.Input(shape=[5])\n",
    "input_deep = keras.layers.Input(shape=[6])\n",
    "hidden1 = keras.layers.Dense(30, activation='relu')(input_deep)\n",
    "hidden2 = keras.layers.Dense(30, activation='relu')(hidden1)\n",
    "concat = keras.layers.concatenate([input_wide,hidden2])\n",
    "output = keras.layers.Dense(1)(concat)\n",
    "output2 = keras.layers.Dense(1)(hidden2)\n",
    "\n",
    "#固化模型\n",
    "model = keras.models.Model(inputs=[input_wide,input_deep],\n",
    "                           outputs=[output,output2])\n",
    "model.summary()\n",
    "\n",
    "# 模型编译\n",
    "model.compile(loss='mean_squared_error',optimizer='adam')\n",
    "\n",
    "# 回调函数\n",
    "callbacks = [keras.callbacks.EarlyStopping(patience=5,min_delta=1e-3)]"
   ]
  },
  {
   "cell_type": "code",
   "execution_count": 26,
   "metadata": {},
   "outputs": [
    {
     "name": "stdout",
     "output_type": "stream",
     "text": [
      "Train on 11610 samples, validate on 3870 samples\n",
      "Epoch 1/100\n",
      "11610/11610 [==============================] - 3s 258us/sample - loss: 3.4015 - dense_14_loss: 1.4283 - dense_15_loss: 1.9722 - val_loss: 1.5721 - val_dense_14_loss: 0.6343 - val_dense_15_loss: 0.9377\n",
      "Epoch 2/100\n",
      "11610/11610 [==============================] - 2s 183us/sample - loss: 1.1932 - dense_14_loss: 0.5007 - dense_15_loss: 0.6923 - val_loss: 1.1078 - val_dense_14_loss: 0.4694 - val_dense_15_loss: 0.6382\n",
      "Epoch 3/100\n",
      "11610/11610 [==============================] - 2s 185us/sample - loss: 1.0124 - dense_14_loss: 0.4289 - dense_15_loss: 0.5835 - val_loss: 1.0060 - val_dense_14_loss: 0.4315 - val_dense_15_loss: 0.5744\n",
      "Epoch 4/100\n",
      "11610/11610 [==============================] - 2s 186us/sample - loss: 0.9577 - dense_14_loss: 0.4111 - dense_15_loss: 0.5465 - val_loss: 0.9635 - val_dense_14_loss: 0.4107 - val_dense_15_loss: 0.5526\n",
      "Epoch 5/100\n",
      "11610/11610 [==============================] - 2s 189us/sample - loss: 0.9079 - dense_14_loss: 0.3928 - dense_15_loss: 0.5150 - val_loss: 0.9094 - val_dense_14_loss: 0.3973 - val_dense_15_loss: 0.5119\n",
      "Epoch 6/100\n",
      "11610/11610 [==============================] - 2s 183us/sample - loss: 0.8712 - dense_14_loss: 0.3858 - dense_15_loss: 0.4851 - val_loss: 0.8829 - val_dense_14_loss: 0.3918 - val_dense_15_loss: 0.4910\n",
      "Epoch 7/100\n",
      "11610/11610 [==============================] - 2s 177us/sample - loss: 0.8301 - dense_14_loss: 0.3690 - dense_15_loss: 0.4612 - val_loss: 0.8512 - val_dense_14_loss: 0.3804 - val_dense_15_loss: 0.4707\n",
      "Epoch 8/100\n",
      "11610/11610 [==============================] - 2s 172us/sample - loss: 0.8116 - dense_14_loss: 0.3596 - dense_15_loss: 0.4517 - val_loss: 0.8381 - val_dense_14_loss: 0.3711 - val_dense_15_loss: 0.4669\n",
      "Epoch 9/100\n",
      "11610/11610 [==============================] - 2s 167us/sample - loss: 0.8177 - dense_14_loss: 0.3534 - dense_15_loss: 0.4643 - val_loss: 0.8173 - val_dense_14_loss: 0.3660 - val_dense_15_loss: 0.4511\n",
      "Epoch 10/100\n",
      "11610/11610 [==============================] - 2s 170us/sample - loss: 0.8268 - dense_14_loss: 0.3565 - dense_15_loss: 0.4703 - val_loss: 0.8081 - val_dense_14_loss: 0.3621 - val_dense_15_loss: 0.4459\n",
      "Epoch 11/100\n",
      "11610/11610 [==============================] - 2s 168us/sample - loss: 0.7919 - dense_14_loss: 0.3564 - dense_15_loss: 0.4354 - val_loss: 0.7876 - val_dense_14_loss: 0.3557 - val_dense_15_loss: 0.4317\n",
      "Epoch 12/100\n",
      "11610/11610 [==============================] - 2s 177us/sample - loss: 0.7536 - dense_14_loss: 0.3423 - dense_15_loss: 0.4113 - val_loss: 0.8406 - val_dense_14_loss: 0.3645 - val_dense_15_loss: 0.4759\n",
      "Epoch 13/100\n",
      "11610/11610 [==============================] - 2s 186us/sample - loss: 0.7480 - dense_14_loss: 0.3418 - dense_15_loss: 0.4060 - val_loss: 0.7664 - val_dense_14_loss: 0.3487 - val_dense_15_loss: 0.4176\n",
      "Epoch 14/100\n",
      "11610/11610 [==============================] - 2s 186us/sample - loss: 0.7585 - dense_14_loss: 0.3501 - dense_15_loss: 0.4084 - val_loss: 0.8004 - val_dense_14_loss: 0.3640 - val_dense_15_loss: 0.4363\n",
      "Epoch 15/100\n",
      "11610/11610 [==============================] - 2s 185us/sample - loss: 0.7902 - dense_14_loss: 0.3463 - dense_15_loss: 0.4438 - val_loss: 0.7806 - val_dense_14_loss: 0.3589 - val_dense_15_loss: 0.4215\n",
      "Epoch 16/100\n",
      "11610/11610 [==============================] - 2s 173us/sample - loss: 0.7384 - dense_14_loss: 0.3354 - dense_15_loss: 0.4029 - val_loss: 0.7560 - val_dense_14_loss: 0.3447 - val_dense_15_loss: 0.4111\n",
      "Epoch 17/100\n",
      "11610/11610 [==============================] - 2s 170us/sample - loss: 0.7403 - dense_14_loss: 0.3380 - dense_15_loss: 0.4023 - val_loss: 0.7448 - val_dense_14_loss: 0.3392 - val_dense_15_loss: 0.4055\n",
      "Epoch 18/100\n",
      "11610/11610 [==============================] - 2s 171us/sample - loss: 0.7303 - dense_14_loss: 0.3343 - dense_15_loss: 0.3963 - val_loss: 0.9683 - val_dense_14_loss: 0.4133 - val_dense_15_loss: 0.5547\n",
      "Epoch 19/100\n",
      "11610/11610 [==============================] - 2s 172us/sample - loss: 0.7575 - dense_14_loss: 0.3398 - dense_15_loss: 0.4179 - val_loss: 0.7481 - val_dense_14_loss: 0.3402 - val_dense_15_loss: 0.4078\n",
      "Epoch 20/100\n",
      "11610/11610 [==============================] - 2s 177us/sample - loss: 0.7446 - dense_14_loss: 0.3331 - dense_15_loss: 0.4114 - val_loss: 0.7986 - val_dense_14_loss: 0.3514 - val_dense_15_loss: 0.4471\n",
      "Epoch 21/100\n",
      "11610/11610 [==============================] - 2s 175us/sample - loss: 0.7464 - dense_14_loss: 0.3362 - dense_15_loss: 0.4102 - val_loss: 0.7875 - val_dense_14_loss: 0.3806 - val_dense_15_loss: 0.4068\n",
      "Epoch 22/100\n",
      "11610/11610 [==============================] - 2s 178us/sample - loss: 0.7145 - dense_14_loss: 0.3293 - dense_15_loss: 0.3849 - val_loss: 0.7477 - val_dense_14_loss: 0.3428 - val_dense_15_loss: 0.4048\n"
     ]
    }
   ],
   "source": [
    "# 模型训练\n",
    "history_mutil_output = model.fit([x_train_scaled_wide,x_train_scaled_deep],\n",
    "                                 [y_train,y_train],\n",
    "                                validation_data=([x_valid_scaled_wide,x_valid_scaled_deep],\n",
    "                                                 [y_valid,y_valid]),\n",
    "                                epochs=100,\n",
    "                                callbacks=callbacks)"
   ]
  },
  {
   "cell_type": "code",
   "execution_count": 27,
   "metadata": {},
   "outputs": [
    {
     "data": {
      "image/png": "[encoded data removed]",
      "text/plain": [
       "<Figure size 576x360 with 1 Axes>"
      ]
     },
     "metadata": {
      "needs_background": "light"
     },
     "output_type": "display_data"
    }
   ],
   "source": [
    "plot_learning_curves(history_mutil_output)"
   ]
  },
  {
   "cell_type": "code",
   "execution_count": null,
   "metadata": {
    "scrolled": true
   },
   "outputs": [],
   "source": [
    "# 测试集上进行指标评估\n",
    "model.evaluate([x_test_scaled_wide,x_test_scaled_deep],[y_test,y_test])"
   ]
  },
  {
   "cell_type": "code",
   "execution_count": null,
   "metadata": {},
   "outputs": [],
   "source": []
  }
 ],
 "metadata": {
  "kernelspec": {
   "display_name": "Python 3",
   "language": "python",
   "name": "python3"
  },
  "language_info": {
   "codemirror_mode": {
    "name": "ipython",
    "version": 3
   },
   "file_extension": ".py",
   "mimetype": "text/x-python",
   "name": "python",
   "nbconvert_exporter": "python",
   "pygments_lexer": "ipython3",
   "version": "3.6.10"
  }
 },
 "nbformat": 4,
 "nbformat_minor": 4
}
