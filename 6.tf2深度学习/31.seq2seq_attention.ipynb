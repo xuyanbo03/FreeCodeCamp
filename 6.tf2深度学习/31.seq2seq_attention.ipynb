{
 "cells": [
  {
   "cell_type": "markdown",
   "metadata": {},
   "source": [
    "# 基于 Attention 的 seq2seq 模型实现"
   ]
  },
  {
   "cell_type": "code",
   "execution_count": 1,
   "metadata": {},
   "outputs": [
    {
     "name": "stdout",
     "output_type": "stream",
     "text": [
      "2.0.0\n",
      "sys.version_info(major=3, minor=6, micro=10, releaselevel='final', serial=0)\n",
      "matplotlib 3.1.2\n",
      "numpy 1.18.1\n",
      "pandas 0.25.3\n",
      "sklearn 0.22.1\n",
      "tensorflow 2.0.0\n",
      "tensorflow_core.keras 2.2.4-tf\n"
     ]
    }
   ],
   "source": [
    "import matplotlib as mpl\n",
    "import matplotlib.pyplot as plt\n",
    "%matplotlib inline\n",
    "import numpy as np\n",
    "import sklearn\n",
    "import pandas as pd\n",
    "import os\n",
    "import sys\n",
    "import time\n",
    "import tensorflow as tf\n",
    "from tensorflow import keras\n",
    "\n",
    "print(tf.__version__)\n",
    "print(sys.version_info)\n",
    "for module in mpl,np,pd,sklearn,tf,keras:\n",
    "    print(module.__name__,module.__version__)"
   ]
  },
  {
   "cell_type": "code",
   "execution_count": 2,
   "metadata": {},
   "outputs": [],
   "source": [
    "# gpus = tf.config.experimental.list_physical_devices('GPU')\n",
    "# for gpu in gpus:\n",
    "#     tf.config.experimental.set_memory_growth(gpu, True)"
   ]
  },
  {
   "cell_type": "markdown",
   "metadata": {},
   "source": [
    "步骤：\n",
    "1. preprocessing data\n",
    "2. build model\n",
    "   1. encoder\n",
    "   2. attention\n",
    "   3. decoder\n",
    "   4. loss & optimizer\n",
    "   5. train\n",
    "3. evaluation\n",
    "   1. given sentence, return translated results\n",
    "   2. visualize results (attention)"
   ]
  },
  {
   "cell_type": "markdown",
   "metadata": {},
   "source": [
    "## 数据处理\n",
    "### 数据预处理"
   ]
  },
  {
   "cell_type": "code",
   "execution_count": 3,
   "metadata": {},
   "outputs": [
    {
     "name": "stdout",
     "output_type": "stream",
     "text": [
      "Then what?\n",
      "¿Entonces que?\n"
     ]
    }
   ],
   "source": [
    "en_spa_file_path = './data/data_spa_en/spa.txt'\n",
    "\n",
    "# 将unicod编码转化为ascii，如果有多个ascii组成，则拆分，去掉重音\n",
    "import unicodedata\n",
    "def unicode_to_ascii(s):\n",
    "    return ''.join(c for c in unicodedata.normalize('NFD', s) if unicodedata.category(c) != 'Mn')\n",
    "\n",
    "# test\n",
    "en_sentence = 'Then what?'\n",
    "sp_sentence = '¿Entonces qué?'\n",
    "\n",
    "print(unicode_to_ascii(en_sentence))\n",
    "print(unicode_to_ascii(sp_sentence))"
   ]
  },
  {
   "cell_type": "code",
   "execution_count": 4,
   "metadata": {},
   "outputs": [
    {
     "name": "stdout",
     "output_type": "stream",
     "text": [
      "<start> then what ? <end>\n",
      "<start> ¿ entonces que ? <end>\n"
     ]
    }
   ],
   "source": [
    "# 西方语言常用：标点符号和字母分开\n",
    "import re\n",
    "def preprocess_sentence(s):\n",
    "    # 转化成ascii，变小写去空格\n",
    "    s = unicode_to_ascii(s.lower().strip())\n",
    "    \n",
    "    # 标点符号前后加空格\n",
    "    s = re.sub(r'([?.!,¿])', r' \\1 ', s)\n",
    "    # 多余的空格变成一个空格\n",
    "    s = re.sub(r'[\" \"]+', ' ', s)\n",
    "    # 除了标点符号和字母外都是空格\n",
    "    s = re.sub(r'[^a-zA-Z?.!,¿]', ' ', s)\n",
    "    # 去掉前后空格\n",
    "    s = s.rstrip().strip()\n",
    "    # 前后加标记\n",
    "    s = '<start> ' + s + ' <end>'\n",
    "    return s\n",
    "\n",
    "# test\n",
    "print(preprocess_sentence(en_sentence))\n",
    "print(preprocess_sentence(sp_sentence))"
   ]
  },
  {
   "cell_type": "code",
   "execution_count": 5,
   "metadata": {},
   "outputs": [
    {
     "name": "stdout",
     "output_type": "stream",
     "text": [
      "(1, 3, 5) (2, 4, 6)\n"
     ]
    }
   ],
   "source": [
    "# 解包和zip联用举例\n",
    "a = [(1, 2), (3, 4), (5, 6)]\n",
    "c, d = zip(*a)\n",
    "print(c, d)"
   ]
  },
  {
   "cell_type": "code",
   "execution_count": 6,
   "metadata": {},
   "outputs": [
    {
     "name": "stdout",
     "output_type": "stream",
     "text": [
      "<start> it may be impossible to get a completely error free corpus due to the nature of this kind of collaborative effort . however , if we encourage members to contribute sentences in their own languages rather than experiment in languages they are learning , we might be able to minimize errors . <end>\n",
      "<start> puede que sea imposible obtener un corpus completamente libre de errores debido a la naturaleza de este tipo de esfuerzo de colaboracion . sin embargo , si animamos a los miembros a contribuir frases en sus propios idiomas en lugar de experimentar con los idiomas que estan aprendiendo , podriamos ser capaces de minimizar los errores . <end>\n"
     ]
    }
   ],
   "source": [
    "# 解析文件\n",
    "def parse_data(filename):\n",
    "    lines = open(filename, encoding='utf-8').read().strip().split('\\n')\n",
    "    sentence_pairs = [line.split('\\t') for line in lines]\n",
    "    preprocess_sentence_pairs = [\n",
    "        (preprocess_sentence(en), preprocess_sentence(sp)) for en, sp in sentence_pairs]\n",
    "    # 解包和zip联用：将每一个元组解开，重新组合成两个新的列表\n",
    "    return zip(*preprocess_sentence_pairs)\n",
    "\n",
    "en_dataset, sp_dataset = parse_data(en_spa_file_path)\n",
    "print(en_dataset[-1])\n",
    "print(sp_dataset[-1])"
   ]
  },
  {
   "cell_type": "markdown",
   "metadata": {},
   "source": [
    "### 数据id化"
   ]
  },
  {
   "cell_type": "code",
   "execution_count": 7,
   "metadata": {},
   "outputs": [
    {
     "name": "stdout",
     "output_type": "stream",
     "text": [
      "16 11\n"
     ]
    }
   ],
   "source": [
    "def tokenizer(lang):\n",
    "    lang_tokenizer = keras.preprocessing.text.Tokenizer(num_words=None, filters='', split=' ')\n",
    "    # 统计词频，生成词表\n",
    "    lang_tokenizer.fit_on_texts(lang)\n",
    "    # id化\n",
    "    tensor = lang_tokenizer.texts_to_sequences(lang)\n",
    "    # padding\n",
    "    tensor = keras.preprocessing.sequence.pad_sequences(tensor, padding='post')\n",
    "    return tensor, lang_tokenizer\n",
    "\n",
    "input_tensor, input_tokenizer = tokenizer(sp_dataset[0:30000])\n",
    "output_tensor, output_tokenizer = tokenizer(en_dataset[0:30000])\n",
    "\n",
    "def max_length(tensor):\n",
    "    return max(len(t) for t in tensor)\n",
    "\n",
    "max_length_input = max_length(input_tensor)\n",
    "max_length_output = max_length(output_tensor)\n",
    "print(max_length_input, max_length_output)"
   ]
  },
  {
   "cell_type": "code",
   "execution_count": 8,
   "metadata": {},
   "outputs": [
    {
     "data": {
      "text/plain": [
       "(24000, 6000, 24000, 6000)"
      ]
     },
     "execution_count": 8,
     "metadata": {},
     "output_type": "execute_result"
    }
   ],
   "source": [
    "# 训练集和验证集切分\n",
    "from sklearn.model_selection import train_test_split\n",
    "input_train, input_eval, output_train, output_eval = train_test_split(\n",
    "    input_tensor, output_tensor, test_size = 0.2)\n",
    "\n",
    "len(input_train), len(input_eval), len(output_train), len(output_eval)"
   ]
  },
  {
   "cell_type": "code",
   "execution_count": 9,
   "metadata": {},
   "outputs": [
    {
     "name": "stdout",
     "output_type": "stream",
     "text": [
      "1 --> <start>\n",
      "80 --> voy\n",
      "10 --> a\n",
      "9235 --> regar\n",
      "9 --> el\n",
      "1807 --> jardin\n",
      "3 --> .\n",
      "2 --> <end>\n",
      "\n",
      "1 --> <start>\n",
      "4 --> i\n",
      "38 --> ll\n",
      "269 --> water\n",
      "13 --> the\n",
      "1441 --> garden\n",
      "3 --> .\n",
      "2 --> <end>\n"
     ]
    }
   ],
   "source": [
    "# 验证tokenizer是否转化正确\n",
    "def convert(example, tokenizer):\n",
    "    for t in example:\n",
    "        if t != 0:\n",
    "            print('%d --> %s' % (t, tokenizer.index_word[t]))\n",
    "            \n",
    "convert(input_train[0], input_tokenizer)\n",
    "print()\n",
    "convert(output_train[0], output_tokenizer)"
   ]
  },
  {
   "cell_type": "markdown",
   "metadata": {},
   "source": [
    "### 生成Dataset"
   ]
  },
  {
   "cell_type": "code",
   "execution_count": 10,
   "metadata": {},
   "outputs": [],
   "source": [
    "def make_dataset(input_tensor, output_tensor, batch_size, epochs, shuffle):\n",
    "    dataset = tf.data.Dataset.from_tensor_slices((input_tensor, output_tensor))\n",
    "    if shuffle:\n",
    "        dataset = dataset.shuffle(30000)\n",
    "    dataset = dataset.repeat(epochs).batch(batch_size, drop_remainder = True)\n",
    "    return dataset\n",
    "\n",
    "batch_size = 64\n",
    "epochs = 20\n",
    "\n",
    "train_dataset = make_dataset(input_train, output_train, batch_size, epochs, True)\n",
    "eval_dataset = make_dataset(input_eval, output_eval, batch_size, 1, False)"
   ]
  },
  {
   "cell_type": "code",
   "execution_count": 11,
   "metadata": {},
   "outputs": [
    {
     "name": "stdout",
     "output_type": "stream",
     "text": [
      "(64, 16)\n",
      "(64, 11)\n",
      "tf.Tensor(\n",
      "[[   1   17   12 ...    0    0    0]\n",
      " [   1   25  174 ...    0    0    0]\n",
      " [   1    5 6675 ...    0    0    0]\n",
      " ...\n",
      " [   1   24 1190 ...    0    0    0]\n",
      " [   1   80   10 ...    0    0    0]\n",
      " [   1    9   44 ...    0    0    0]], shape=(64, 16), dtype=int32)\n",
      "tf.Tensor(\n",
      "[[   1    4   29  106   21  643    3    2    0    0    0]\n",
      " [   1    4  129  408    3    2    0    0    0    0    0]\n",
      " [   1   40    5  249   10   83    6    2    0    0    0]\n",
      " [   1    4   16   34  674    3    2    0    0    0    0]\n",
      " [   1   92    4  178   10   23    6    2    0    0    0]\n",
      " [   1    4  438    9   70   15    5    3    2    0    0]\n",
      " [   1    7    8 1633 1855    3    2    0    0    0    0]\n",
      " [   1   13  480    8  818    3    2    0    0    0    0]\n",
      " [   1  459   13 2141    3    2    0    0    0    0    0]\n",
      " [   1    4 1327    5    3    2    0    0    0    0    0]\n",
      " [   1   29    5  355   20    6    2    0    0    0    0]\n",
      " [   1    7   26 1335    3    2    0    0    0    0    0]\n",
      " [   1    4   16 2058    3    2    0    0    0    0    0]\n",
      " [   1    4   69   34  445    3    2    0    0    0    0]\n",
      " [   1   14   23  253  112    3    2    0    0    0    0]\n",
      " [   1  117   36   13   83    3    2    0    0    0    0]\n",
      " [   1   17   24  425    3    2    0    0    0    0    0]\n",
      " [   1    5   38  191  452    3    2    0    0    0    0]\n",
      " [   1   33   90   15  239    3    2    0    0    0    0]\n",
      " [   1    4  589   35  687    3    2    0    0    0    0]\n",
      " [   1   17  542   74    3    2    0    0    0    0    0]\n",
      " [   1    9   92  514    3    2    0    0    0    0    0]\n",
      " [   1    7  343   49  306    3    2    0    0    0    0]\n",
      " [   1    7   40   72   19    3    2    0    0    0    0]\n",
      " [   1    7    8   10   67  932    3    2    0    0    0]\n",
      " [   1    7  298  186    3    2    0    0    0    0    0]\n",
      " [   1   20  523    8  955    3    2    0    0    0    0]\n",
      " [   1    4   73 1305  278    3    2    0    0    0    0]\n",
      " [   1    7 2249   82    3    2    0    0    0    0    0]\n",
      " [   1   14    8   10 1091    3    2    0    0    0    0]\n",
      " [   1 1230   13  730    3    2    0    0    0    0    0]\n",
      " [   1  580   50   52   39    3    2    0    0    0    0]\n",
      " [   1  428   15 1560   10  346    6    2    0    0    0]\n",
      " [   1   58  323   50   21  190  145    3    2    0    0]\n",
      " [   1    4   16   36 1037   63   19    3    2    0    0]\n",
      " [   1    5   29 1110    3    2    0    0    0    0    0]\n",
      " [   1   17   24  250  316    3    2    0    0    0    0]\n",
      " [   1    4   45   15   33    3    2    0    0    0    0]\n",
      " [   1    4   26  184    3    2    0    0    0    0    0]\n",
      " [   1  161   98    8 2650    3    2    0    0    0    0]\n",
      " [   1    8   20   84  162    6    2    0    0    0    0]\n",
      " [   1   25    5  187   80   18    6    2    0    0    0]\n",
      " [   1   68   11   30  248    6    2    0    0    0    0]\n",
      " [   1  509    7    3    2    0    0    0    0    0    0]\n",
      " [   1   23    5  290  231    6    2    0    0    0    0]\n",
      " [   1   28 3363    3    2    0    0    0    0    0    0]\n",
      " [   1   21  827    8   36 1298    3    2    0    0    0]\n",
      " [   1    4   57   10 1219    3    2    0    0    0    0]\n",
      " [   1   20   26   21  451    3    2    0    0    0    0]\n",
      " [   1   56    8   20  461    6    2    0    0    0    0]\n",
      " [   1    7    8   10 2244    3    2    0    0    0    0]\n",
      " [   1   25    5   36   10  276    6    2    0    0    0]\n",
      " [   1   31    8 1539    3    2    0    0    0    0    0]\n",
      " [   1    4   69   36   13  168    3    2    0    0    0]\n",
      " [   1    4   35   15   29  206    3    2    0    0    0]\n",
      " [   1   17   62  302    9    3    2    0    0    0    0]\n",
      " [   1    4   16    7    3    2    0    0    0    0    0]\n",
      " [   1    4  163  223  288    3    2    0    0    0    0]\n",
      " [   1    4  283    4   91  609    3    2    0    0    0]\n",
      " [   1    4   16  565    3    2    0    0    0    0    0]\n",
      " [   1    4  341   10  410  149    3    2    0    0    0]\n",
      " [   1    4   16  627    3    2    0    0    0    0    0]\n",
      " [   1    4   16  121   15  279    3    2    0    0    0]\n",
      " [   1   14   59   10  643    3    2    0    0    0    0]], shape=(64, 11), dtype=int32)\n"
     ]
    }
   ],
   "source": [
    "for x, y in train_dataset.take(1):\n",
    "    print(x.shape)\n",
    "    print(y.shape)\n",
    "    print(x)\n",
    "    print(y)"
   ]
  },
  {
   "cell_type": "markdown",
   "metadata": {},
   "source": [
    "## 模型定义"
   ]
  },
  {
   "cell_type": "code",
   "execution_count": 12,
   "metadata": {},
   "outputs": [],
   "source": [
    "# 定义超参数\n",
    "embedding_units = 256\n",
    "units = 1024\n",
    "input_vocab_size = len(input_tokenizer.word_index) + 1\n",
    "output_vocab_size = len(output_tokenizer.word_index) + 1\n",
    "batch_size = 64"
   ]
  },
  {
   "cell_type": "markdown",
   "metadata": {},
   "source": [
    "### Encoder构建"
   ]
  },
  {
   "cell_type": "code",
   "execution_count": 13,
   "metadata": {},
   "outputs": [],
   "source": [
    "class Encoder(keras.Model):\n",
    "    def __init__(self, vocab_size, embedding_units, encoding_units, batch_size):\n",
    "        super(Encoder, self).__init__()\n",
    "        self.batch_size = batch_size\n",
    "        self.encoding_units = encoding_units\n",
    "        self.embedding = keras.layers.Embedding(vocab_size, embedding_units)\n",
    "        self.gru = keras.layers.GRU(self.encoding_units, return_sequences=True,\n",
    "                                    return_state=True, recurrent_initializer='glorot_uniform')\n",
    "        \n",
    "    def call(self, x, hidden):\n",
    "        x = self.embedding(x)\n",
    "        output, state = self.gru(x, initial_state = hidden)\n",
    "        return output, state\n",
    "    \n",
    "    def initialize_hidden_state(self):\n",
    "        return tf.zeros((self.batch_size, self.encoding_units))"
   ]
  },
  {
   "cell_type": "code",
   "execution_count": 14,
   "metadata": {},
   "outputs": [
    {
     "name": "stdout",
     "output_type": "stream",
     "text": [
      "(64, 16, 1024)\n",
      "(64, 1024)\n"
     ]
    }
   ],
   "source": [
    "# test\n",
    "encoder = Encoder(input_vocab_size, embedding_units, units, batch_size)\n",
    "sample_hidden = encoder.initialize_hidden_state()\n",
    "sample_output, sample_hidden = encoder(x, sample_hidden)\n",
    "print(sample_output.shape)\n",
    "print(sample_hidden.shape)"
   ]
  },
  {
   "cell_type": "markdown",
   "metadata": {},
   "source": [
    "### Attention 构建 "
   ]
  },
  {
   "cell_type": "code",
   "execution_count": 15,
   "metadata": {},
   "outputs": [],
   "source": [
    "class BahdanauAttention(keras.Model):\n",
    "    def __init__(self, units):\n",
    "        super(BahdanauAttention, self).__init__()\n",
    "        self.W1 = keras.layers.Dense(units)\n",
    "        self.W2 = keras.layers.Dense(units)\n",
    "        self.V = keras.layers.Dense(1)\n",
    "        \n",
    "    def call(self, decoder_hidden, encoder_outputs):\n",
    "        # decoder_hidden.shape: (batch_size, units)\n",
    "        # encoder_outputs.shape: (batch_size, length, units)\n",
    "        # 维度不同，需要扩维\n",
    "        decoder_hidden_with_time_axis = tf.expand_dims(decoder_hidden, 1)\n",
    "        \n",
    "        # before V: (batch_size, length, units)\n",
    "        # after V: (batch_size, length, 1)\n",
    "        # 计算score\n",
    "        score = self.V(tf.nn.tanh(\n",
    "            self.W1(encoder_outputs) + self.W2(decoder_hidden_with_time_axis)))\n",
    "        \n",
    "        # attention_weights.shape: (batch_size, length, 1)\n",
    "        # 得到权重\n",
    "        attention_weights = tf.nn.softmax(score, axis=1)\n",
    "        \n",
    "        # context_vector.shape: (batch_size, length, 1)\n",
    "        # 加权求和\n",
    "        context_vector = attention_weights * encoder_outputs\n",
    "        # context_vector.shape: (batch_size, units)\n",
    "        context_vector = tf.reduce_sum(context_vector, axis=1)\n",
    "        \n",
    "        return context_vector, attention_weights"
   ]
  },
  {
   "cell_type": "code",
   "execution_count": 16,
   "metadata": {},
   "outputs": [
    {
     "name": "stdout",
     "output_type": "stream",
     "text": [
      "(64, 1024)\n",
      "(64, 16, 1)\n"
     ]
    }
   ],
   "source": [
    "# test\n",
    "attention_model = BahdanauAttention(units=10)\n",
    "attention_results, attention_weights = attention_model(sample_hidden, sample_output)\n",
    "print(attention_results.shape)\n",
    "print(attention_weights.shape)"
   ]
  },
  {
   "cell_type": "markdown",
   "metadata": {},
   "source": [
    "### Decoder构建"
   ]
  },
  {
   "cell_type": "code",
   "execution_count": 17,
   "metadata": {},
   "outputs": [],
   "source": [
    "class Decoder(keras.Model):\n",
    "    def __init__(self, vocab_size, embedding_units, decoding_units, batch_size):\n",
    "        super(Decoder, self).__init__()\n",
    "        self.batch_size = batch_size\n",
    "        self.decoding_units = decoding_units\n",
    "        self.embedding = keras.layers.Embedding(vocab_size, embedding_units)\n",
    "        self.gru = keras.layers.GRU(self.decoding_units, return_sequences=True,\n",
    "                                    return_state=True, recurrent_initializer='glorot_uniform')\n",
    "        self.fc = keras.layers.Dense(vocab_size)\n",
    "        self.attention = BahdanauAttention(self.decoding_units)\n",
    "        \n",
    "    def call(self, x, hidden, encoding_outputs):\n",
    "        # context_vector.shape: (batch_size, units)\n",
    "        # 计算attention权重\n",
    "        context_vector, attention_weights = self.attention(hidden, encoding_outputs)\n",
    "        \n",
    "        # before embedding: x.shape: (batch_size, 1)\n",
    "        # after embedding: x.shape: (batch_size, 1, embedding_units)\n",
    "        x = self.embedding(x)\n",
    "        \n",
    "        # 先将attention 权重扩维，再与x连起来\n",
    "        combined_x = tf.concat([tf.expand_dims(context_vector, 1), x], axis = -1)\n",
    "        \n",
    "        # output.shape: (batch_size, 1, decoding_units)\n",
    "        # state.shape: (batch_size, decoding_units)\n",
    "        output, state = self.gru(combined_x)\n",
    "        \n",
    "        # output.shape: (batch_size, decoding_units)\n",
    "        output = tf.reshape(output, (-1, output.shape[2]))\n",
    "        \n",
    "        # output.shape: (batch_size, vocab_size)\n",
    "        output = self.fc(output)\n",
    "        \n",
    "        return output, state, attention_weights"
   ]
  },
  {
   "cell_type": "code",
   "execution_count": 18,
   "metadata": {},
   "outputs": [
    {
     "name": "stdout",
     "output_type": "stream",
     "text": [
      "(64, 4834)\n",
      "(64, 1024)\n",
      "(64, 16, 1)\n"
     ]
    }
   ],
   "source": [
    "# test\n",
    "decoder = Decoder(output_vocab_size, embedding_units, units, batch_size)\n",
    "\n",
    "outputs = decoder(tf.random.uniform((batch_size, 1)), sample_hidden, sample_output)\n",
    "decoder_output, decoder_hidden, decoder_aw = outputs\n",
    "\n",
    "print(decoder_output.shape)\n",
    "print(decoder_hidden.shape)\n",
    "print(decoder_aw.shape)"
   ]
  },
  {
   "cell_type": "markdown",
   "metadata": {},
   "source": [
    "### 损失函数和单步训练函数"
   ]
  },
  {
   "cell_type": "code",
   "execution_count": 19,
   "metadata": {},
   "outputs": [],
   "source": [
    "optimizer = keras.optimizers.Adam()\n",
    "loss_object = keras.losses.SparseCategoricalCrossentropy(from_logits=True, reduction='none')\n",
    "\n",
    "# 计算单步损失函数\n",
    "def loss_function(real, pred):\n",
    "    # 计算所有非padding部分\n",
    "    mask = tf.math.logical_not(tf.math.equal(real, 0))\n",
    "    loss_ = loss_object(real, pred)\n",
    "    \n",
    "    # mask类型转化，与loss_保持一致\n",
    "    mask = tf.cast(mask, dtype=loss_.dtype)\n",
    "    loss_ *= mask\n",
    "    \n",
    "    return tf.reduce_mean(loss_)"
   ]
  },
  {
   "cell_type": "code",
   "execution_count": 20,
   "metadata": {},
   "outputs": [],
   "source": [
    "# 定义单步训练函数\n",
    "@tf.function\n",
    "def train_step(inp, targ, encoding_hidden):\n",
    "    loss = 0\n",
    "    with tf.GradientTape() as tape:\n",
    "        encoding_outputs, encoding_hidden = encoder(inp, encoding_hidden)\n",
    "        decoding_hidden = encoding_hidden\n",
    "        \n",
    "        # eg:对于输入长度为5的序列，输出需要4步\n",
    "        # 计算多步损失函数\n",
    "        for t in range(0, targ.shape[1] - 1):\n",
    "            decoding_input = tf.expand_dims(targ[:, t], 1)\n",
    "            predictions, decoding_hidden, _ = decoder(\n",
    "                decoding_input, decoding_hidden, encoding_outputs)\n",
    "            loss += loss_function(targ[:, t+1], predictions)\n",
    "            \n",
    "    batch_loss = loss / int(targ.shape[0])\n",
    "    variables = encoder.trainable_variables + decoder.trainable_variables\n",
    "    gradients = tape.gradient(loss, variables)\n",
    "    optimizer.apply_gradients(zip(gradients, variables))\n",
    "    return batch_loss"
   ]
  },
  {
   "cell_type": "code",
   "execution_count": 21,
   "metadata": {},
   "outputs": [],
   "source": [
    "checkpoint_dir = os.path.join('seq2seq_checkpoints')\n",
    "checkpoint_prefix = os.path.join(checkpoint_dir, \"ckpt\")\n",
    "checkpoint = tf.train.Checkpoint(optimizer=optimizer,\n",
    "                                 encoder=encoder,\n",
    "                                 decoder=decoder)"
   ]
  },
  {
   "cell_type": "markdown",
   "metadata": {},
   "source": [
    "### 模型训练"
   ]
  },
  {
   "cell_type": "code",
   "execution_count": 22,
   "metadata": {},
   "outputs": [
    {
     "name": "stdout",
     "output_type": "stream",
     "text": [
      "Epoch 1 Batch 0 Loss 0.7767\n",
      "Epoch 1 Batch 100 Loss 0.3567\n",
      "Epoch 1 Batch 200 Loss 0.3398\n",
      "Epoch 1 Batch 300 Loss 0.2930\n",
      "Epoch 1 Batch 400 Loss 0.2768\n",
      "Epoch 1 Loss 0.3322\n",
      "Time take for 1 epoch 235.82640504837036 sec\n",
      "\n",
      "Epoch 2 Batch 0 Loss 0.2580\n",
      "Epoch 2 Batch 100 Loss 0.2535\n",
      "Epoch 2 Batch 200 Loss 0.2428\n",
      "Epoch 2 Batch 300 Loss 0.2180\n",
      "Epoch 2 Batch 400 Loss 0.1898\n",
      "Epoch 2 Loss 0.2214\n",
      "Time take for 1 epoch 218.2403221130371 sec\n",
      "\n",
      "Epoch 3 Batch 0 Loss 0.1776\n",
      "Epoch 3 Batch 100 Loss 0.1736\n",
      "Epoch 3 Batch 200 Loss 0.1663\n",
      "Epoch 3 Batch 300 Loss 0.1392\n",
      "Epoch 3 Batch 400 Loss 0.1116\n",
      "Epoch 3 Loss 0.1452\n",
      "Time take for 1 epoch 216.85228729248047 sec\n",
      "\n",
      "Epoch 4 Batch 0 Loss 0.1171\n",
      "Epoch 4 Batch 100 Loss 0.1086\n",
      "Epoch 4 Batch 200 Loss 0.1004\n",
      "Epoch 4 Batch 300 Loss 0.0907\n",
      "Epoch 4 Batch 400 Loss 0.0655\n",
      "Epoch 4 Loss 0.0917\n",
      "Time take for 1 epoch 216.78517651557922 sec\n",
      "\n",
      "Epoch 5 Batch 0 Loss 0.0665\n",
      "Epoch 5 Batch 100 Loss 0.0633\n",
      "Epoch 5 Batch 200 Loss 0.0618\n",
      "Epoch 5 Batch 300 Loss 0.0756\n",
      "Epoch 5 Batch 400 Loss 0.0370\n",
      "Epoch 5 Loss 0.0589\n",
      "Time take for 1 epoch 220.52611327171326 sec\n",
      "\n",
      "Epoch 6 Batch 0 Loss 0.0408\n",
      "Epoch 6 Batch 100 Loss 0.0391\n",
      "Epoch 6 Batch 200 Loss 0.0353\n",
      "Epoch 6 Batch 300 Loss 0.0515\n",
      "Epoch 6 Batch 400 Loss 0.0320\n",
      "Epoch 6 Loss 0.0391\n",
      "Time take for 1 epoch 216.77072072029114 sec\n",
      "\n",
      "Epoch 7 Batch 0 Loss 0.0267\n",
      "Epoch 7 Batch 100 Loss 0.0309\n",
      "Epoch 7 Batch 200 Loss 0.0357\n",
      "Epoch 7 Batch 300 Loss 0.0336\n",
      "Epoch 7 Batch 400 Loss 0.0158\n",
      "Epoch 7 Loss 0.0273\n",
      "Time take for 1 epoch 216.79898810386658 sec\n",
      "\n",
      "Epoch 8 Batch 0 Loss 0.0176\n",
      "Epoch 8 Batch 100 Loss 0.0178\n",
      "Epoch 8 Batch 200 Loss 0.0202\n",
      "Epoch 8 Batch 300 Loss 0.0221\n",
      "Epoch 8 Batch 400 Loss 0.0161\n",
      "Epoch 8 Loss 0.0202\n",
      "Time take for 1 epoch 226.10663747787476 sec\n",
      "\n",
      "Epoch 9 Batch 0 Loss 0.0086\n",
      "Epoch 9 Batch 100 Loss 0.0137\n",
      "Epoch 9 Batch 200 Loss 0.0219\n",
      "Epoch 9 Batch 300 Loss 0.0149\n",
      "Epoch 9 Batch 400 Loss 0.0132\n",
      "Epoch 9 Loss 0.0164\n",
      "Time take for 1 epoch 226.29279255867004 sec\n",
      "\n",
      "Epoch 10 Batch 0 Loss 0.0124\n",
      "Epoch 10 Batch 100 Loss 0.0144\n",
      "Epoch 10 Batch 200 Loss 0.0108\n",
      "Epoch 10 Batch 300 Loss 0.0207\n",
      "Epoch 10 Batch 400 Loss 0.0075\n",
      "Epoch 10 Loss 0.0140\n",
      "Time take for 1 epoch 240.50028800964355 sec\n",
      "\n"
     ]
    }
   ],
   "source": [
    "epochs = 10\n",
    "steps_per_epoch = len(input_tensor) // batch_size\n",
    "\n",
    "# 训练\n",
    "for epoch in range(epochs):\n",
    "    start = time.time()\n",
    "    encoding_hidden = encoder.initialize_hidden_state()\n",
    "    total_loss = 0\n",
    "    \n",
    "    for (batch, (inp, targ)) in enumerate(train_dataset.take(steps_per_epoch)):\n",
    "        batch_loss = train_step(inp, targ, encoding_hidden)\n",
    "        total_loss += batch_loss\n",
    "        # 计算总loss，打印日志\n",
    "        if batch % 100 == 0:\n",
    "            print('Epoch {} Batch {} Loss {:.4f}'.format(epoch + 1, batch, batch_loss.numpy()))\n",
    "    \n",
    "    # 每5个周期（epoch）,保存（检查点）一次模型\n",
    "    if (epoch + 1) % 5 == 0:\n",
    "        checkpoint.save(file_prefix = checkpoint_prefix)\n",
    "    print('Epoch {} Loss {:.4f}'.format(epoch + 1, total_loss / steps_per_epoch))\n",
    "    print('Time take for 1 epoch {} sec\\n'.format(time.time() - start))"
   ]
  },
  {
   "cell_type": "markdown",
   "metadata": {},
   "source": [
    "## 验证\n",
    "### 给句子，返回翻译结果"
   ]
  },
  {
   "cell_type": "code",
   "execution_count": 23,
   "metadata": {},
   "outputs": [],
   "source": [
    "def evaluate(input_sentence):\n",
    "    # 定义attention矩阵\n",
    "    attention_matrix = np.zeros((max_length_output, max_length_input))\n",
    "    # 预处理\n",
    "    input_sentence = preprocess_sentence(input_sentence)\n",
    "    # text到id转化\n",
    "    inputs = [input_tokenizer.word_index[token] for token in input_sentence.split(' ')]\n",
    "    # padding\n",
    "    inputs = keras.preprocessing.sequence.pad_sequences(\n",
    "        [inputs], maxlen = max_length_input, padding = 'post')\n",
    "    # 转化为tensor\n",
    "    inputs = tf.convert_to_tensor(inputs)\n",
    "    \n",
    "    results = ''\n",
    "    # encoding_hidden = encoder.initialize_hidden_state()\n",
    "    encoding_hidden = tf.zeros((1, units))\n",
    "    encoding_outputs, encoding_hidden = encoder(inputs, encoding_hidden)\n",
    "    decoding_hidden = encoding_hidden\n",
    "    \n",
    "    # eg:<start> -> A -> B -> ...\n",
    "    # decoding_input.shape: (1, 1)\n",
    "    decoding_input = tf.expand_dims([output_tokenizer.word_index['<start>']], 0)\n",
    "    for t in range(max_length_output):\n",
    "        predictions, decoding_hidden, attention_weights = decoder(\n",
    "                decoding_input, decoding_hidden, encoding_outputs)\n",
    "        \n",
    "        # attention_weights.shape: (batch_size, length, 1) (1, 16, 1)\n",
    "        # 缩维：(16)\n",
    "        attention_weights = tf.reshape(attention_weights, (-1,))\n",
    "        attention_matrix[t] = attention_weights.numpy()\n",
    "        \n",
    "        # predictions.shape: (batch_size, vocab_size) (1, 4935)\n",
    "        predicted_id = tf.argmax(predictions[0]).numpy()\n",
    "        \n",
    "        # 保存翻译结果\n",
    "        results += output_tokenizer.index_word[predicted_id] + ' '\n",
    "        \n",
    "        if output_tokenizer.index_word[predicted_id] == '<end>':\n",
    "            return results, input_sentence, attention_matrix\n",
    "        \n",
    "        decoding_input = tf.expand_dims([predicted_id], 0)\n",
    "    return results, input_sentence, attention_matrix"
   ]
  },
  {
   "cell_type": "markdown",
   "metadata": {},
   "source": [
    "### 可视化权重"
   ]
  },
  {
   "cell_type": "code",
   "execution_count": 24,
   "metadata": {},
   "outputs": [],
   "source": [
    "def plot_attention(attention_matrix, input_sentence, predicted_sentence):\n",
    "    fig = plt.figure(figsize=(10, 10))\n",
    "    ax = fig.add_subplot(1, 1, 1)\n",
    "    # 展示矩阵不同颜色\n",
    "    ax.matshow(attention_matrix, cmap = 'viridis')\n",
    "    \n",
    "    # 设置x轴和y轴\n",
    "    font_dict = {'fontsize' : 14}\n",
    "    ax.set_xticklabels([''] + input_sentence, fontdict = font_dict, rotation = 90)\n",
    "    ax.set_yticklabels([''] + predicted_sentence, fontdict = font_dict)\n",
    "    plt.show()"
   ]
  },
  {
   "cell_type": "markdown",
   "metadata": {},
   "source": [
    "### 翻译"
   ]
  },
  {
   "cell_type": "code",
   "execution_count": 25,
   "metadata": {},
   "outputs": [],
   "source": [
    "def translate(input_sentence):\n",
    "    results, input_sentence, attention_matrix = evaluate(input_sentence)\n",
    "    print('Input: %s' % (input_sentence))\n",
    "    print('Predicted translation: %s' % (results))\n",
    "    \n",
    "    attention_matrix = attention_matrix[:len(results.split(' ')), :len(input_sentence.split(' '))]\n",
    "    plot_attention(attention_matrix, input_sentence.split(' '), results.split(' '))"
   ]
  },
  {
   "cell_type": "code",
   "execution_count": 26,
   "metadata": {},
   "outputs": [
    {
     "name": "stdout",
     "output_type": "stream",
     "text": [
      "seq2seq_checkpoints\\ckpt-2\n"
     ]
    },
    {
     "data": {
      "text/plain": [
       "<tensorflow.python.training.tracking.util.CheckpointLoadStatus at 0x189d0bd6320>"
      ]
     },
     "execution_count": 26,
     "metadata": {},
     "output_type": "execute_result"
    }
   ],
   "source": [
    "# 恢复检查点目录 （checkpoint_dir） 中最新的检查点\n",
    "print(tf.train.latest_checkpoint(checkpoint_dir))\n",
    "# latest_path = os.path.join(tf.train.latest_checkpoint(checkpoint_dir))\n",
    "checkpoint.restore(tf.train.latest_checkpoint(checkpoint_dir))"
   ]
  },
  {
   "cell_type": "code",
   "execution_count": 27,
   "metadata": {},
   "outputs": [
    {
     "name": "stdout",
     "output_type": "stream",
     "text": [
      "Input: <start> hace mucho frio aqui . <end>\n",
      "Predicted translation: it s very cold out . <end> \n"
     ]
    },
    {
     "data": {
      "image/png": "[encoded data removed]",
      "text/plain": [
       "<Figure size 720x720 with 1 Axes>"
      ]
     },
     "metadata": {
      "needs_background": "light"
     },
     "output_type": "display_data"
    }
   ],
   "source": [
    "translate(u'Hace mucho frío aquí.')"
   ]
  },
  {
   "cell_type": "code",
   "execution_count": 28,
   "metadata": {},
   "outputs": [
    {
     "name": "stdout",
     "output_type": "stream",
     "text": [
      "Input: <start> esta es mi vida . <end>\n",
      "Predicted translation: this is my life . <end> \n"
     ]
    },
    {
     "data": {
      "image/png": "[encoded data removed]",
      "text/plain": [
       "<Figure size 720x720 with 1 Axes>"
      ]
     },
     "metadata": {
      "needs_background": "light"
     },
     "output_type": "display_data"
    }
   ],
   "source": [
    "translate(u'Esta es mi vida.')"
   ]
  },
  {
   "cell_type": "code",
   "execution_count": 29,
   "metadata": {},
   "outputs": [
    {
     "name": "stdout",
     "output_type": "stream",
     "text": [
      "Input: <start> sigues en casa ? <end>\n",
      "Predicted translation: i still at home . <end> \n"
     ]
    },
    {
     "data": {
      "image/png": "[encoded data removed]",
      "text/plain": [
       "<Figure size 720x720 with 1 Axes>"
      ]
     },
     "metadata": {
      "needs_background": "light"
     },
     "output_type": "display_data"
    }
   ],
   "source": [
    "translate(u'sigues en casa ?')"
   ]
  },
  {
   "cell_type": "code",
   "execution_count": null,
   "metadata": {},
   "outputs": [],
   "source": []
  }
 ],
 "metadata": {
  "kernelspec": {
   "display_name": "Python 3",
   "language": "python",
   "name": "python3"
  },
  "language_info": {
   "codemirror_mode": {
    "name": "ipython",
    "version": 3
   },
   "file_extension": ".py",
   "mimetype": "text/x-python",
   "name": "python",
   "nbconvert_exporter": "python",
   "pygments_lexer": "ipython3",
   "version": "3.6.10"
  }
 },
 "nbformat": 4,
 "nbformat_minor": 4
}
