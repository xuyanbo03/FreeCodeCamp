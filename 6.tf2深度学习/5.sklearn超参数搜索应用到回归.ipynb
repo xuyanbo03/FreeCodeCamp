{
 "cells": [
  {
   "cell_type": "markdown",
   "metadata": {},
   "source": [
    "# 利用回归问题进行超参数搜索"
   ]
  },
  {
   "cell_type": "code",
   "execution_count": 1,
   "metadata": {},
   "outputs": [
    {
     "name": "stdout",
     "output_type": "stream",
     "text": [
      "2.0.0\n",
      "sys.version_info(major=3, minor=6, micro=10, releaselevel='final', serial=0)\n",
      "matplotlib 3.1.2\n",
      "numpy 1.18.1\n",
      "pandas 0.25.3\n",
      "sklearn 0.22.1\n",
      "tensorflow 2.0.0\n",
      "tensorflow_core.keras 2.2.4-tf\n"
     ]
    }
   ],
   "source": [
    "# 导入\n",
    "import matplotlib as mpl\n",
    "import matplotlib.pyplot as plt\n",
    "%matplotlib inline\n",
    "import numpy as np\n",
    "import sklearn\n",
    "import pandas as pd\n",
    "import os\n",
    "import sys\n",
    "import time\n",
    "import tensorflow as tf\n",
    "from tensorflow import keras\n",
    "\n",
    "print(tf.__version__)\n",
    "print(sys.version_info)\n",
    "for module in mpl,np,pd,sklearn,tf,keras:\n",
    "    print(module.__name__,module.__version__)"
   ]
  },
  {
   "cell_type": "markdown",
   "metadata": {},
   "source": [
    "### 数据读取"
   ]
  },
  {
   "cell_type": "code",
   "execution_count": 2,
   "metadata": {},
   "outputs": [
    {
     "name": "stdout",
     "output_type": "stream",
     "text": [
      ".. _california_housing_dataset:\n",
      "\n",
      "California Housing dataset\n",
      "--------------------------\n",
      "\n",
      "**Data Set Characteristics:**\n",
      "\n",
      "    :Number of Instances: 20640\n",
      "\n",
      "    :Number of Attributes: 8 numeric, predictive attributes and the target\n",
      "\n",
      "    :Attribute Information:\n",
      "        - MedInc        median income in block\n",
      "        - HouseAge      median house age in block\n",
      "        - AveRooms      average number of rooms\n",
      "        - AveBedrms     average number of bedrooms\n",
      "        - Population    block population\n",
      "        - AveOccup      average house occupancy\n",
      "        - Latitude      house block latitude\n",
      "        - Longitude     house block longitude\n",
      "\n",
      "    :Missing Attribute Values: None\n",
      "\n",
      "This dataset was obtained from the StatLib repository.\n",
      "http://lib.stat.cmu.edu/datasets/\n",
      "\n",
      "The target variable is the median house value for California districts.\n",
      "\n",
      "This dataset was derived from the 1990 U.S. census, using one row per census\n",
      "block group. A block group is the smallest geographical unit for which the U.S.\n",
      "Census Bureau publishes sample data (a block group typically has a population\n",
      "of 600 to 3,000 people).\n",
      "\n",
      "It can be downloaded/loaded using the\n",
      ":func:`sklearn.datasets.fetch_california_housing` function.\n",
      "\n",
      ".. topic:: References\n",
      "\n",
      "    - Pace, R. Kelley and Ronald Barry, Sparse Spatial Autoregressions,\n",
      "      Statistics and Probability Letters, 33 (1997) 291-297\n",
      "\n",
      "(20640, 8)\n",
      "(20640,)\n"
     ]
    }
   ],
   "source": [
    "# 导入数据集 房价预测\n",
    "from sklearn.datasets import fetch_california_housing\n",
    "\n",
    "housing = fetch_california_housing()\n",
    "print(housing.DESCR)\n",
    "print(housing.data.shape)\n",
    "print(housing.target.shape)"
   ]
  },
  {
   "cell_type": "code",
   "execution_count": 3,
   "metadata": {},
   "outputs": [
    {
     "name": "stdout",
     "output_type": "stream",
     "text": [
      "(11610, 8) (11610,)\n",
      "(3870, 8) (3870,)\n",
      "(5160, 8) (5160,)\n"
     ]
    }
   ],
   "source": [
    "# 切分数据集\n",
    "from sklearn.model_selection import train_test_split\n",
    "\n",
    "x_train_all,x_test,y_train_all,y_test = train_test_split(\n",
    "    housing.data,housing.target,random_state=7)\n",
    "x_train,x_valid,y_train,y_valid = train_test_split(\n",
    "    x_train_all,y_train_all,random_state=11)\n",
    "\n",
    "print(x_train.shape,y_train.shape)\n",
    "print(x_valid.shape,y_valid.shape)\n",
    "print(x_test.shape,y_test.shape)"
   ]
  },
  {
   "cell_type": "code",
   "execution_count": 4,
   "metadata": {},
   "outputs": [],
   "source": [
    "# 对数据进行归一化\n",
    "from sklearn.preprocessing import StandardScaler\n",
    "\n",
    "scaler = StandardScaler()\n",
    "x_train_scaled = scaler.fit_transform(x_train)\n",
    "x_valid_scaled = scaler.transform(x_valid)\n",
    "x_test_scaled = scaler.transform(x_test)"
   ]
  },
  {
   "cell_type": "markdown",
   "metadata": {},
   "source": [
    "### 模型构建\n",
    "#### 手动实现超参数搜索\n",
    "\n",
    "简化问题：只针对learning_rate进行超参数搜索\n",
    "\n",
    "learning_rate：[1e-4, 3e-4, 1e-3, 3e-3, 1e-2, 3e-2]\n",
    "\n",
    "学习率用于参数更新上：W = W + grad * learning_rate"
   ]
  },
  {
   "cell_type": "code",
   "execution_count": 5,
   "metadata": {
    "scrolled": true
   },
   "outputs": [
    {
     "name": "stdout",
     "output_type": "stream",
     "text": [
      "Train on 11610 samples, validate on 3870 samples\n",
      "Epoch 1/100\n",
      "11610/11610 [==============================] - 2s 189us/sample - loss: 2.9827 - val_loss: 2.5992\n",
      "Epoch 2/100\n",
      "11610/11610 [==============================] - 1s 112us/sample - loss: 2.0778 - val_loss: 1.8459\n",
      "Epoch 3/100\n",
      "11610/11610 [==============================] - 1s 112us/sample - loss: 1.5144 - val_loss: 1.4004\n",
      "Epoch 4/100\n",
      "11610/11610 [==============================] - 2s 131us/sample - loss: 1.1975 - val_loss: 1.1572\n",
      "Epoch 5/100\n",
      "11610/11610 [==============================] - 1s 121us/sample - loss: 1.0241 - val_loss: 1.0187\n",
      "Epoch 6/100\n",
      "11610/11610 [==============================] - 1s 117us/sample - loss: 0.9178 - val_loss: 0.9268\n",
      "Epoch 7/100\n",
      "11610/11610 [==============================] - 1s 116us/sample - loss: 0.8437 - val_loss: 0.8582\n",
      "Epoch 8/100\n",
      "11610/11610 [==============================] - 1s 113us/sample - loss: 0.7816 - val_loss: 0.7995\n",
      "Epoch 9/100\n",
      "11610/11610 [==============================] - 1s 125us/sample - loss: 0.7299 - val_loss: 0.7495\n",
      "Epoch 10/100\n",
      "11610/11610 [==============================] - 1s 116us/sample - loss: 0.6859 - val_loss: 0.7082\n",
      "Epoch 11/100\n",
      "11610/11610 [==============================] - 1s 112us/sample - loss: 0.6487 - val_loss: 0.6729\n",
      "Epoch 12/100\n",
      "11610/11610 [==============================] - 1s 111us/sample - loss: 0.6154 - val_loss: 0.6398\n",
      "Epoch 13/100\n",
      "11610/11610 [==============================] - 1s 113us/sample - loss: 0.5862 - val_loss: 0.6130\n",
      "Epoch 14/100\n",
      "11610/11610 [==============================] - 1s 112us/sample - loss: 0.5612 - val_loss: 0.5887\n",
      "Epoch 15/100\n",
      "11610/11610 [==============================] - 1s 115us/sample - loss: 0.5395 - val_loss: 0.5678\n",
      "Epoch 16/100\n",
      "11610/11610 [==============================] - 1s 117us/sample - loss: 0.5207 - val_loss: 0.5498\n",
      "Epoch 17/100\n",
      "11610/11610 [==============================] - 1s 114us/sample - loss: 0.5045 - val_loss: 0.5350\n",
      "Epoch 18/100\n",
      "11610/11610 [==============================] - 1s 116us/sample - loss: 0.4904 - val_loss: 0.5211\n",
      "Epoch 19/100\n",
      "11610/11610 [==============================] - 1s 116us/sample - loss: 0.4783 - val_loss: 0.5092\n",
      "Epoch 20/100\n",
      "11610/11610 [==============================] - 1s 114us/sample - loss: 0.4674 - val_loss: 0.4982\n",
      "Epoch 21/100\n",
      "11610/11610 [==============================] - 1s 111us/sample - loss: 0.4582 - val_loss: 0.4878\n",
      "Epoch 22/100\n",
      "11610/11610 [==============================] - 1s 110us/sample - loss: 0.4502 - val_loss: 0.4794\n",
      "Epoch 23/100\n",
      "11610/11610 [==============================] - 1s 110us/sample - loss: 0.4432 - val_loss: 0.4718\n",
      "Epoch 24/100\n",
      "11610/11610 [==============================] - 1s 109us/sample - loss: 0.4371 - val_loss: 0.4645\n",
      "Epoch 25/100\n",
      "11610/11610 [==============================] - 1s 110us/sample - loss: 0.4319 - val_loss: 0.4586\n",
      "Epoch 26/100\n",
      "11610/11610 [==============================] - 1s 110us/sample - loss: 0.4270 - val_loss: 0.4531\n",
      "Epoch 27/100\n",
      "11610/11610 [==============================] - 1s 109us/sample - loss: 0.4228 - val_loss: 0.4485\n",
      "Epoch 28/100\n",
      "11610/11610 [==============================] - 1s 110us/sample - loss: 0.4192 - val_loss: 0.4439\n",
      "Epoch 29/100\n",
      "11610/11610 [==============================] - 1s 111us/sample - loss: 0.4158 - val_loss: 0.4399\n",
      "Epoch 30/100\n",
      "11610/11610 [==============================] - 1s 113us/sample - loss: 0.4129 - val_loss: 0.4365\n",
      "Epoch 31/100\n",
      "11610/11610 [==============================] - 1s 109us/sample - loss: 0.4104 - val_loss: 0.4335\n",
      "Epoch 32/100\n",
      "11610/11610 [==============================] - 1s 109us/sample - loss: 0.4080 - val_loss: 0.4307\n",
      "Epoch 33/100\n",
      "11610/11610 [==============================] - 1s 111us/sample - loss: 0.4059 - val_loss: 0.4283\n",
      "Epoch 34/100\n",
      "11610/11610 [==============================] - 1s 111us/sample - loss: 0.4038 - val_loss: 0.4252\n",
      "Epoch 35/100\n",
      "11610/11610 [==============================] - 1s 109us/sample - loss: 0.4021 - val_loss: 0.4231\n",
      "Epoch 36/100\n",
      "11610/11610 [==============================] - 1s 111us/sample - loss: 0.4005 - val_loss: 0.4211\n",
      "Epoch 37/100\n",
      "11610/11610 [==============================] - 1s 109us/sample - loss: 0.3991 - val_loss: 0.4193\n",
      "Epoch 38/100\n",
      "11610/11610 [==============================] - 1s 109us/sample - loss: 0.3978 - val_loss: 0.4173\n",
      "Epoch 39/100\n",
      "11610/11610 [==============================] - 1s 112us/sample - loss: 0.3964 - val_loss: 0.4156\n",
      "Train on 11610 samples, validate on 3870 samples\n",
      "Epoch 1/100\n",
      "11610/11610 [==============================] - 2s 145us/sample - loss: 4.7249 - val_loss: 2.7832\n",
      "Epoch 2/100\n",
      "11610/11610 [==============================] - 1s 114us/sample - loss: 1.6932 - val_loss: 1.0824\n",
      "Epoch 3/100\n",
      "11610/11610 [==============================] - 1s 114us/sample - loss: 0.8409 - val_loss: 0.7637\n",
      "Epoch 4/100\n",
      "11610/11610 [==============================] - 1s 115us/sample - loss: 0.6699 - val_loss: 0.6851\n",
      "Epoch 5/100\n",
      "11610/11610 [==============================] - 1s 115us/sample - loss: 0.6051 - val_loss: 0.6308\n",
      "Epoch 6/100\n",
      "11610/11610 [==============================] - 1s 112us/sample - loss: 0.5594 - val_loss: 0.5864\n",
      "Epoch 7/100\n",
      "11610/11610 [==============================] - 1s 111us/sample - loss: 0.5220 - val_loss: 0.5485\n",
      "Epoch 8/100\n",
      "11610/11610 [==============================] - 1s 114us/sample - loss: 0.4909 - val_loss: 0.5148\n",
      "Epoch 9/100\n",
      "11610/11610 [==============================] - 1s 114us/sample - loss: 0.4663 - val_loss: 0.4886\n",
      "Epoch 10/100\n",
      "11610/11610 [==============================] - 1s 112us/sample - loss: 0.4469 - val_loss: 0.4716\n",
      "Epoch 11/100\n",
      "11610/11610 [==============================] - 1s 111us/sample - loss: 0.4311 - val_loss: 0.4543\n",
      "Epoch 12/100\n",
      "11610/11610 [==============================] - 1s 114us/sample - loss: 0.4199 - val_loss: 0.4438\n",
      "Epoch 13/100\n",
      "11610/11610 [==============================] - 1s 117us/sample - loss: 0.4113 - val_loss: 0.4341\n",
      "Epoch 14/100\n",
      "11610/11610 [==============================] - 1s 107us/sample - loss: 0.4041 - val_loss: 0.4265\n",
      "Epoch 15/100\n",
      "11610/11610 [==============================] - 1s 111us/sample - loss: 0.3988 - val_loss: 0.4194\n",
      "Epoch 16/100\n",
      "11610/11610 [==============================] - 1s 109us/sample - loss: 0.3940 - val_loss: 0.4159\n",
      "Epoch 17/100\n",
      "11610/11610 [==============================] - 1s 110us/sample - loss: 0.3909 - val_loss: 0.4108\n",
      "Epoch 18/100\n",
      "11610/11610 [==============================] - 1s 109us/sample - loss: 0.3875 - val_loss: 0.4073\n",
      "Epoch 19/100\n",
      "11610/11610 [==============================] - 1s 113us/sample - loss: 0.3848 - val_loss: 0.4118\n",
      "Epoch 20/100\n",
      "11610/11610 [==============================] - 1s 111us/sample - loss: 0.3819 - val_loss: 0.4014\n",
      "Epoch 21/100\n",
      "11610/11610 [==============================] - 1s 109us/sample - loss: 0.3794 - val_loss: 0.3996\n",
      "Epoch 22/100\n",
      "11610/11610 [==============================] - 1s 112us/sample - loss: 0.3770 - val_loss: 0.3965\n",
      "Epoch 23/100\n",
      "11610/11610 [==============================] - 1s 111us/sample - loss: 0.3744 - val_loss: 0.3936\n",
      "Epoch 24/100\n",
      "11610/11610 [==============================] - 1s 109us/sample - loss: 0.3730 - val_loss: 0.3936\n",
      "Epoch 25/100\n",
      "11610/11610 [==============================] - 1s 111us/sample - loss: 0.3707 - val_loss: 0.3908\n",
      "Epoch 26/100\n",
      "11610/11610 [==============================] - 1s 112us/sample - loss: 0.3689 - val_loss: 0.3890\n",
      "Epoch 27/100\n",
      "11610/11610 [==============================] - 1s 111us/sample - loss: 0.3670 - val_loss: 0.3849\n",
      "Epoch 28/100\n",
      "11610/11610 [==============================] - 1s 109us/sample - loss: 0.3650 - val_loss: 0.3850\n",
      "Epoch 29/100\n",
      "11610/11610 [==============================] - 1s 110us/sample - loss: 0.3646 - val_loss: 0.3839\n",
      "Epoch 30/100\n",
      "11610/11610 [==============================] - 1s 110us/sample - loss: 0.3619 - val_loss: 0.3809\n",
      "Train on 11610 samples, validate on 3870 samples\n",
      "Epoch 1/100\n",
      "11610/11610 [==============================] - 2s 135us/sample - loss: 1.4411 - val_loss: 0.7024\n",
      "Epoch 2/100\n",
      "11610/11610 [==============================] - 1s 111us/sample - loss: 0.5595 - val_loss: 0.5352\n",
      "Epoch 3/100\n",
      "11610/11610 [==============================] - 1s 110us/sample - loss: 0.4603 - val_loss: 0.4602\n",
      "Epoch 4/100\n",
      "11610/11610 [==============================] - 1s 109us/sample - loss: 0.4219 - val_loss: 0.4301\n",
      "Epoch 5/100\n",
      "11610/11610 [==============================] - 1s 110us/sample - loss: 0.4061 - val_loss: 0.4143\n",
      "Epoch 6/100\n",
      "11610/11610 [==============================] - 1s 111us/sample - loss: 0.3928 - val_loss: 0.4017\n",
      "Epoch 7/100\n",
      "11610/11610 [==============================] - 1s 110us/sample - loss: 0.3876 - val_loss: 0.3954\n",
      "Epoch 8/100\n",
      "11610/11610 [==============================] - 1s 109us/sample - loss: 0.3791 - val_loss: 0.3913\n",
      "Epoch 9/100\n",
      "11610/11610 [==============================] - 1s 109us/sample - loss: 0.3744 - val_loss: 0.3850\n",
      "Epoch 10/100\n",
      "11610/11610 [==============================] - 1s 111us/sample - loss: 0.3719 - val_loss: 0.3791\n",
      "Epoch 11/100\n",
      "11610/11610 [==============================] - 1s 109us/sample - loss: 0.3674 - val_loss: 0.3771\n",
      "Epoch 12/100\n",
      "11610/11610 [==============================] - 1s 112us/sample - loss: 0.3660 - val_loss: 0.3727\n",
      "Epoch 13/100\n",
      "11610/11610 [==============================] - 1s 109us/sample - loss: 0.3584 - val_loss: 0.3751\n",
      "Epoch 14/100\n",
      "11610/11610 [==============================] - 1s 109us/sample - loss: 0.3558 - val_loss: 0.3682\n",
      "Epoch 15/100\n",
      "11610/11610 [==============================] - 1s 110us/sample - loss: 0.3540 - val_loss: 0.3616\n",
      "Epoch 16/100\n",
      "11610/11610 [==============================] - 1s 110us/sample - loss: 0.3503 - val_loss: 0.3571\n",
      "Epoch 17/100\n",
      "11610/11610 [==============================] - 1s 111us/sample - loss: 0.3558 - val_loss: 0.3540\n",
      "Epoch 18/100\n",
      "11610/11610 [==============================] - 1s 109us/sample - loss: 0.3489 - val_loss: 0.3487\n",
      "Epoch 19/100\n",
      "11610/11610 [==============================] - 1s 111us/sample - loss: 0.3407 - val_loss: 0.3495\n",
      "Epoch 20/100\n",
      "11610/11610 [==============================] - 2s 129us/sample - loss: 0.3380 - val_loss: 0.3435\n",
      "Epoch 21/100\n",
      "11610/11610 [==============================] - 1s 127us/sample - loss: 0.3372 - val_loss: 0.3605\n",
      "Epoch 22/100\n",
      "11610/11610 [==============================] - 1s 125us/sample - loss: 0.3385 - val_loss: 0.3401\n",
      "Epoch 23/100\n",
      "11610/11610 [==============================] - 1s 111us/sample - loss: 0.3341 - val_loss: 0.3391\n",
      "Epoch 24/100\n",
      "11610/11610 [==============================] - 1s 116us/sample - loss: 0.3309 - val_loss: 0.3353\n",
      "Epoch 25/100\n",
      "11610/11610 [==============================] - 1s 106us/sample - loss: 0.3286 - val_loss: 0.3294\n",
      "Epoch 26/100\n",
      "11610/11610 [==============================] - 1s 109us/sample - loss: 0.3304 - val_loss: 0.3331\n",
      "Epoch 27/100\n",
      "11610/11610 [==============================] - 1s 110us/sample - loss: 0.3301 - val_loss: 0.3320\n",
      "Epoch 28/100\n",
      "11610/11610 [==============================] - 1s 109us/sample - loss: 0.3296 - val_loss: 0.3266\n",
      "Epoch 29/100\n",
      "11610/11610 [==============================] - 1s 110us/sample - loss: 0.3201 - val_loss: 0.3261\n",
      "Epoch 30/100\n",
      "11610/11610 [==============================] - 1s 113us/sample - loss: 0.3216 - val_loss: 0.3250\n",
      "Train on 11610 samples, validate on 3870 samples\n",
      "Epoch 1/100\n",
      "11610/11610 [==============================] - 2s 144us/sample - loss: 0.7819 - val_loss: 0.4592\n",
      "Epoch 2/100\n",
      "11610/11610 [==============================] - 1s 115us/sample - loss: 0.4414 - val_loss: 0.4147\n",
      "Epoch 3/100\n",
      "11610/11610 [==============================] - 1s 112us/sample - loss: 0.3978 - val_loss: 0.3827\n",
      "Epoch 4/100\n",
      "11610/11610 [==============================] - 1s 110us/sample - loss: 0.3818 - val_loss: 0.3808\n",
      "Epoch 5/100\n",
      "11610/11610 [==============================] - 1s 112us/sample - loss: 0.3723 - val_loss: 0.3708\n",
      "Epoch 6/100\n",
      "11610/11610 [==============================] - 1s 115us/sample - loss: 0.3705 - val_loss: 0.3782\n",
      "Epoch 7/100\n",
      "11610/11610 [==============================] - 1s 112us/sample - loss: 0.3737 - val_loss: 0.3478\n",
      "Epoch 8/100\n",
      "11610/11610 [==============================] - 1s 113us/sample - loss: 0.3435 - val_loss: 0.3526\n",
      "Epoch 9/100\n",
      "11610/11610 [==============================] - 1s 115us/sample - loss: 0.3461 - val_loss: 0.3436\n",
      "Epoch 10/100\n",
      "11610/11610 [==============================] - 1s 113us/sample - loss: 0.3327 - val_loss: 0.3415\n",
      "Epoch 11/100\n",
      "11610/11610 [==============================] - 1s 112us/sample - loss: 0.3461 - val_loss: 0.3491\n",
      "Epoch 12/100\n",
      "11610/11610 [==============================] - 1s 116us/sample - loss: 0.3496 - val_loss: 0.3444\n",
      "Train on 11610 samples, validate on 3870 samples\n",
      "Epoch 1/100\n",
      "11610/11610 [==============================] - 2s 136us/sample - loss: 0.6722 - val_loss: 0.4257\n",
      "Epoch 2/100\n",
      "11610/11610 [==============================] - 1s 113us/sample - loss: 0.4982 - val_loss: 0.4352\n",
      "Epoch 3/100\n",
      "11610/11610 [==============================] - 1s 109us/sample - loss: 0.4016 - val_loss: 0.3690\n",
      "Epoch 4/100\n",
      "11610/11610 [==============================] - 1s 110us/sample - loss: 0.3687 - val_loss: 0.3918\n",
      "Epoch 5/100\n",
      "11610/11610 [==============================] - 1s 108us/sample - loss: 0.3578 - val_loss: 0.3870\n",
      "Epoch 6/100\n",
      "11610/11610 [==============================] - 1s 111us/sample - loss: 0.3616 - val_loss: 0.3513\n",
      "Epoch 7/100\n",
      "11610/11610 [==============================] - 1s 113us/sample - loss: 0.3861 - val_loss: 0.4145\n",
      "Epoch 8/100\n",
      "11610/11610 [==============================] - 1s 115us/sample - loss: 0.3481 - val_loss: 0.3791\n",
      "Epoch 9/100\n",
      "11610/11610 [==============================] - 1s 116us/sample - loss: 0.3584 - val_loss: 0.3495\n",
      "Epoch 10/100\n",
      "11610/11610 [==============================] - 1s 111us/sample - loss: 0.3426 - val_loss: 0.3284\n",
      "Epoch 11/100\n",
      "11610/11610 [==============================] - 1s 111us/sample - loss: 0.3409 - val_loss: 0.3471\n",
      "Epoch 12/100\n",
      "11610/11610 [==============================] - 1s 110us/sample - loss: 0.3351 - val_loss: 0.3338\n",
      "Epoch 13/100\n",
      "11610/11610 [==============================] - 1s 109us/sample - loss: 0.3277 - val_loss: 0.3221\n",
      "Epoch 14/100\n",
      "11610/11610 [==============================] - 1s 112us/sample - loss: 0.3248 - val_loss: 0.3681\n",
      "Epoch 15/100\n",
      "11610/11610 [==============================] - 1s 112us/sample - loss: 0.3435 - val_loss: 0.3359\n",
      "Train on 11610 samples, validate on 3870 samples\n",
      "Epoch 1/100\n",
      "11610/11610 [==============================] - 2s 136us/sample - loss: 1.0920 - val_loss: 0.4912\n",
      "Epoch 2/100\n",
      "11610/11610 [==============================] - 1s 112us/sample - loss: 0.9374 - val_loss: 0.4457\n",
      "Epoch 3/100\n",
      "11610/11610 [==============================] - 1s 111us/sample - loss: 1.5386 - val_loss: 0.4973\n",
      "Epoch 4/100\n",
      "11610/11610 [==============================] - 1s 113us/sample - loss: 0.6324 - val_loss: 0.3817\n",
      "Epoch 5/100\n",
      "11610/11610 [==============================] - 1s 109us/sample - loss: 0.3938 - val_loss: 0.3620\n",
      "Epoch 6/100\n",
      "11610/11610 [==============================] - 2s 134us/sample - loss: 0.3971 - val_loss: 0.3879\n",
      "Epoch 7/100\n",
      "11610/11610 [==============================] - 1s 115us/sample - loss: 0.3696 - val_loss: 0.4006\n",
      "Epoch 8/100\n",
      "11610/11610 [==============================] - 1s 115us/sample - loss: 0.3992 - val_loss: 0.3882\n",
      "Epoch 9/100\n",
      "11610/11610 [==============================] - 1s 113us/sample - loss: 0.3673 - val_loss: 0.3760\n",
      "Epoch 10/100\n",
      "11610/11610 [==============================] - 1s 112us/sample - loss: 0.3661 - val_loss: 0.3821\n"
     ]
    }
   ],
   "source": [
    "# 手动实现学习率搜索\n",
    "learning_rates = [1e-4, 3e-4, 1e-3, 3e-3, 1e-2, 3e-2]\n",
    "histories = []\n",
    "for lr in learning_rates:\n",
    "    model = keras.models.Sequential([\n",
    "        keras.layers.Dense(30, activation='relu',input_shape=x_train.shape[1:]),\n",
    "        keras.layers.Dense(1)\n",
    "    ])\n",
    "\n",
    "    optimizer = keras.optimizers.Adam(learning_rate=lr)\n",
    "    model.compile(loss='mean_squared_error',optimizer=optimizer)\n",
    "\n",
    "    callbacks = [keras.callbacks.EarlyStopping(patience=5,min_delta=1e-2)]\n",
    "    history = model.fit(x_train_scaled,y_train,epochs=100,\n",
    "                        validation_data=(x_valid_scaled,y_valid),\n",
    "                        callbacks=callbacks)\n",
    "    histories.append(history)"
   ]
  },
  {
   "cell_type": "code",
   "execution_count": 6,
   "metadata": {},
   "outputs": [
    {
     "name": "stdout",
     "output_type": "stream",
     "text": [
      "Learning Rate: 0.0001\n"
     ]
    },
    {
     "data": {
      "image/png": "[encoded data removed]",
      "text/plain": [
       "<Figure size 576x360 with 1 Axes>"
      ]
     },
     "metadata": {
      "needs_background": "light"
     },
     "output_type": "display_data"
    },
    {
     "name": "stdout",
     "output_type": "stream",
     "text": [
      "Learning Rate: 0.0003\n"
     ]
    },
    {
     "data": {
      "image/png": "[encoded data removed]",
      "text/plain": [
       "<Figure size 576x360 with 1 Axes>"
      ]
     },
     "metadata": {
      "needs_background": "light"
     },
     "output_type": "display_data"
    },
    {
     "name": "stdout",
     "output_type": "stream",
     "text": [
      "Learning Rate: 0.001\n"
     ]
    },
    {
     "data": {
      "image/png": "[encoded data removed]",
      "text/plain": [
       "<Figure size 576x360 with 1 Axes>"
      ]
     },
     "metadata": {
      "needs_background": "light"
     },
     "output_type": "display_data"
    },
    {
     "name": "stdout",
     "output_type": "stream",
     "text": [
      "Learning Rate: 0.003\n"
     ]
    },
    {
     "data": {
      "image/png": "[encoded data removed]",
      "text/plain": [
       "<Figure size 576x360 with 1 Axes>"
      ]
     },
     "metadata": {
      "needs_background": "light"
     },
     "output_type": "display_data"
    },
    {
     "name": "stdout",
     "output_type": "stream",
     "text": [
      "Learning Rate: 0.01\n"
     ]
    },
    {
     "data": {
      "image/png": "[encoded data removed]",
      "text/plain": [
       "<Figure size 576x360 with 1 Axes>"
      ]
     },
     "metadata": {
      "needs_background": "light"
     },
     "output_type": "display_data"
    },
    {
     "name": "stdout",
     "output_type": "stream",
     "text": [
      "Learning Rate: 0.03\n"
     ]
    },
    {
     "data": {
      "image/png": "[encoded data removed]",
      "text/plain": [
       "<Figure size 576x360 with 1 Axes>"
      ]
     },
     "metadata": {
      "needs_background": "light"
     },
     "output_type": "display_data"
    }
   ],
   "source": [
    "def plot_learning_curves(history):\n",
    "    pd.DataFrame(history.history).plot(figsize=(8,5))\n",
    "    plt.grid(True)\n",
    "    plt.gca().set_ylim(0,1)\n",
    "    plt.show()\n",
    "    \n",
    "for lr, history in zip(learning_rates, histories):\n",
    "    print(\"Learning Rate: \" + str(lr))\n",
    "    plot_learning_curves(history)"
   ]
  },
  {
   "cell_type": "markdown",
   "metadata": {},
   "source": [
    "#### 使用sklearn实现超参数搜索\n",
    "\n",
    "使用sklearn中的RandomizedSearchCV实现\n",
    "\n",
    "步骤：\n",
    "1. 将tfkeras model 转化为 sklearn model\n",
    "2. 定义参数集合\n",
    "3. 搜索参数"
   ]
  },
  {
   "cell_type": "code",
   "execution_count": 7,
   "metadata": {},
   "outputs": [
    {
     "name": "stdout",
     "output_type": "stream",
     "text": [
      "Train on 11610 samples, validate on 3870 samples\n",
      "Epoch 1/100\n",
      "11610/11610 [==============================] - 2s 134us/sample - loss: 0.8353 - val_loss: 0.4933\n",
      "Epoch 2/100\n",
      "11610/11610 [==============================] - 1s 106us/sample - loss: 0.4418 - val_loss: 0.4220\n",
      "Epoch 3/100\n",
      "11610/11610 [==============================] - 1s 105us/sample - loss: 0.3922 - val_loss: 0.3982\n",
      "Epoch 4/100\n",
      "11610/11610 [==============================] - 1s 107us/sample - loss: 0.3839 - val_loss: 0.4111\n",
      "Epoch 5/100\n",
      "11610/11610 [==============================] - 1s 107us/sample - loss: 0.3853 - val_loss: 0.3778\n",
      "Epoch 6/100\n",
      "11610/11610 [==============================] - 1s 108us/sample - loss: 0.3853 - val_loss: 0.3851\n",
      "Epoch 7/100\n",
      "11610/11610 [==============================] - 1s 106us/sample - loss: 0.3905 - val_loss: 0.3636\n",
      "Epoch 8/100\n",
      "11610/11610 [==============================] - 1s 108us/sample - loss: 0.3583 - val_loss: 0.3589\n",
      "Epoch 9/100\n",
      "11610/11610 [==============================] - 1s 106us/sample - loss: 0.3488 - val_loss: 0.3684\n",
      "Epoch 10/100\n",
      "11610/11610 [==============================] - 1s 107us/sample - loss: 0.3505 - val_loss: 0.3622\n",
      "Epoch 11/100\n",
      "11610/11610 [==============================] - 1s 106us/sample - loss: 0.3608 - val_loss: 0.3520\n",
      "Epoch 12/100\n",
      "11610/11610 [==============================] - 1s 107us/sample - loss: 0.3589 - val_loss: 0.3443\n",
      "Epoch 13/100\n",
      "11610/11610 [==============================] - 1s 108us/sample - loss: 0.3352 - val_loss: 0.3368\n",
      "Epoch 14/100\n",
      "11610/11610 [==============================] - 1s 106us/sample - loss: 0.3328 - val_loss: 0.3382\n",
      "Epoch 15/100\n",
      "11610/11610 [==============================] - 1s 105us/sample - loss: 0.3310 - val_loss: 0.3614\n",
      "Epoch 16/100\n",
      "11610/11610 [==============================] - 1s 106us/sample - loss: 0.3341 - val_loss: 0.3555\n",
      "Epoch 17/100\n",
      "11610/11610 [==============================] - 1s 107us/sample - loss: 0.3501 - val_loss: 0.3291\n",
      "Epoch 18/100\n",
      "11610/11610 [==============================] - 1s 108us/sample - loss: 0.3338 - val_loss: 0.3404\n"
     ]
    }
   ],
   "source": [
    "# sklearn实现随机超参数搜索\n",
    "# 1.转化为sklearn model\n",
    "def build_model(hidden_layers = 1, layer_size = 30, learning_rate = 3e-3):\n",
    "    model = keras.models.Sequential()\n",
    "    model.add(keras.layers.Dense(layer_size, activation='relu',input_shape=x_train.shape[1:]))\n",
    "    for _ in range(hidden_layers - 1):\n",
    "        model.add(keras.layers.Dense(layer_size,activation='relu'))\n",
    "    model.add(keras.layers.Dense(1))\n",
    "    optimizer = keras.optimizers.Adam(learning_rate)\n",
    "    model.compile(loss='mse',optimizer=optimizer)\n",
    "    return model\n",
    "\n",
    "sklearn_model = keras.wrappers.scikit_learn.KerasRegressor(build_model)\n",
    "callbacks = [keras.callbacks.EarlyStopping(patience=5,min_delta=1e-2)]\n",
    "history = sklearn_model.fit(x_train_scaled,y_train,epochs=100,\n",
    "                            validation_data=(x_valid_scaled,y_valid),\n",
    "                            callbacks=callbacks)"
   ]
  },
  {
   "cell_type": "code",
   "execution_count": 8,
   "metadata": {},
   "outputs": [
    {
     "data": {
      "image/png": "[encoded data removed]",
      "text/plain": [
       "<Figure size 576x360 with 1 Axes>"
      ]
     },
     "metadata": {
      "needs_background": "light"
     },
     "output_type": "display_data"
    }
   ],
   "source": [
    "plot_learning_curves(history)"
   ]
  },
  {
   "cell_type": "code",
   "execution_count": 9,
   "metadata": {},
   "outputs": [],
   "source": [
    "# 2.定义参数集合，即搜索空间\n",
    "# 使用一个分布，生成在连续空间中最小值到最大值的取值，用来生成学习率\n",
    "# f(x) = 1/(x * log(b/a))  a<=x<=b\n",
    "from scipy.stats import reciprocal\n",
    "\n",
    "param_distribution = {\n",
    "    \"hidden_layers\": [1, 2, 3, 4],\n",
    "    \"layer_size\": np.arange(1, 100),\n",
    "    \"learning_rate\": reciprocal(1e-4, 1e-2),\n",
    "}"
   ]
  },
  {
   "cell_type": "code",
   "execution_count": null,
   "metadata": {
    "scrolled": true
   },
   "outputs": [],
   "source": [
    "# 3.按照搜索空间进行搜索\n",
    "from sklearn.model_selection import RandomizedSearchCV\n",
    "\n",
    "# RandomizedSearchCV默认使用3折cross_validation：训练集分成n份，n-1训练，最后一份验证\n",
    "random_search_cv = RandomizedSearchCV(sklearn_model,param_distribution,\n",
    "                                      cv=3,n_iter=10,n_jobs=1)\n",
    "random_search_cv.fit(x_train_scaled, y_train, epochs=100,\n",
    "                     validation_data = (x_valid_scaled,y_valid),\n",
    "                     callbacks = callbacks)"
   ]
  },
  {
   "cell_type": "code",
   "execution_count": 13,
   "metadata": {},
   "outputs": [
    {
     "name": "stdout",
     "output_type": "stream",
     "text": [
      "{'hidden_layers': 3, 'layer_size': 50, 'learning_rate': 0.0010951588862015238}\n",
      "-0.3051839210574325\n"
     ]
    }
   ],
   "source": [
    "# 打印最优参数、分数、模型\n",
    "print(random_search_cv.best_params_)\n",
    "print(random_search_cv.best_score_)\n",
    "# print(random_search_cv.best_estimator_)"
   ]
  },
  {
   "cell_type": "code",
   "execution_count": null,
   "metadata": {},
   "outputs": [],
   "source": [
    "model = random_search_cv.best_estimator_.model\n",
    "model.evaluate(x_test_scaled,y_test)"
   ]
  }
 ],
 "metadata": {
  "kernelspec": {
   "display_name": "Python 3",
   "language": "python",
   "name": "python3"
  },
  "language_info": {
   "codemirror_mode": {
    "name": "ipython",
    "version": 3
   },
   "file_extension": ".py",
   "mimetype": "text/x-python",
   "name": "python",
   "nbconvert_exporter": "python",
   "pygments_lexer": "ipython3",
   "version": "3.6.10"
  }
 },
 "nbformat": 4,
 "nbformat_minor": 4
}
