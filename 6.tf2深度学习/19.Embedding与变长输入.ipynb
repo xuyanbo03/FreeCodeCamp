{
 "cells": [
  {
   "cell_type": "markdown",
   "metadata": {},
   "source": [
    "# Embedding 与 变长输入实战IMDB文本分类"
   ]
  },
  {
   "cell_type": "code",
   "execution_count": 1,
   "metadata": {},
   "outputs": [
    {
     "name": "stdout",
     "output_type": "stream",
     "text": [
      "2.0.0\n",
      "sys.version_info(major=3, minor=6, micro=10, releaselevel='final', serial=0)\n",
      "matplotlib 3.1.2\n",
      "numpy 1.18.1\n",
      "pandas 0.25.3\n",
      "sklearn 0.22.1\n",
      "tensorflow 2.0.0\n",
      "tensorflow_core.keras 2.2.4-tf\n"
     ]
    }
   ],
   "source": [
    "import matplotlib as mpl\n",
    "import matplotlib.pyplot as plt\n",
    "%matplotlib inline\n",
    "import numpy as np\n",
    "import sklearn\n",
    "import pandas as pd\n",
    "import os\n",
    "import sys\n",
    "import time\n",
    "import tensorflow as tf\n",
    "from tensorflow import keras\n",
    "\n",
    "print(tf.__version__)\n",
    "print(sys.version_info)\n",
    "for module in mpl,np,pd,sklearn,tf,keras:\n",
    "    print(module.__name__,module.__version__)"
   ]
  },
  {
   "cell_type": "code",
   "execution_count": null,
   "metadata": {},
   "outputs": [],
   "source": [
    "def solve_cudnn_error():\n",
    "    gpus = tf.config.experimental.list_physical_devices('GPU')\n",
    "    if gpus:\n",
    "        try:\n",
    "            # Currently, memory growth needs to be the same across GPUs\n",
    "            for gpu in gpus:\n",
    "                tf.config.experimental.set_memory_growth(gpu, True)\n",
    "            logical_gpus = tf.config.experimental.list_logical_devices('GPU')\n",
    "            print(len(gpus), \"Physical GPUs,\", len(logical_gpus), \"Logical GPUs\")\n",
    "        except RuntimeError as e:\n",
    "            # Memory growth must be set before GPUs have been initialized\n",
    "            print(e)\n",
    "\n",
    "solve_cudnn_error()"
   ]
  },
  {
   "cell_type": "markdown",
   "metadata": {},
   "source": [
    "## 数据读取"
   ]
  },
  {
   "cell_type": "code",
   "execution_count": 2,
   "metadata": {},
   "outputs": [],
   "source": [
    "# 数据集载入\n",
    "imdb = keras.datasets.imdb\n",
    "# 词表大小\n",
    "vocab_size = 10000\n",
    "# 从索引多少时构建\n",
    "index_from = 3\n",
    "(train_data, train_labels), (test_data, test_labels) = imdb.load_data(\n",
    "    num_words = vocab_size, index_from = index_from)"
   ]
  },
  {
   "cell_type": "markdown",
   "metadata": {},
   "source": [
    "### 数据集探索"
   ]
  },
  {
   "cell_type": "code",
   "execution_count": 3,
   "metadata": {},
   "outputs": [
    {
     "name": "stdout",
     "output_type": "stream",
     "text": [
      "[1, 14, 22, 16, 43, 530, 973, 1622, 1385, 65, 458, 4468, 66, 3941, 4, 173, 36, 256, 5, 25, 100, 43, 838, 112, 50, 670, 2, 9, 35, 480, 284, 5, 150, 4, 172, 112, 167, 2, 336, 385, 39, 4, 172, 4536, 1111, 17, 546, 38, 13, 447, 4, 192, 50, 16, 6, 147, 2025, 19, 14, 22, 4, 1920, 4613, 469, 4, 22, 71, 87, 12, 16, 43, 530, 38, 76, 15, 13, 1247, 4, 22, 17, 515, 17, 12, 16, 626, 18, 2, 5, 62, 386, 12, 8, 316, 8, 106, 5, 4, 2223, 5244, 16, 480, 66, 3785, 33, 4, 130, 12, 16, 38, 619, 5, 25, 124, 51, 36, 135, 48, 25, 1415, 33, 6, 22, 12, 215, 28, 77, 52, 5, 14, 407, 16, 82, 2, 8, 4, 107, 117, 5952, 15, 256, 4, 2, 7, 3766, 5, 723, 36, 71, 43, 530, 476, 26, 400, 317, 46, 7, 4, 2, 1029, 13, 104, 88, 4, 381, 15, 297, 98, 32, 2071, 56, 26, 141, 6, 194, 7486, 18, 4, 226, 22, 21, 134, 476, 26, 480, 5, 144, 30, 5535, 18, 51, 36, 28, 224, 92, 25, 104, 4, 226, 65, 16, 38, 1334, 88, 12, 16, 283, 5, 16, 4472, 113, 103, 32, 15, 16, 5345, 19, 178, 32] 1\n",
      "(25000,) (25000,)\n",
      "218 189\n"
     ]
    }
   ],
   "source": [
    "print(train_data[0], train_labels[0])\n",
    "print(train_data.shape, train_labels.shape)\n",
    "print(len(train_data[0]), len(train_data[1]))"
   ]
  },
  {
   "cell_type": "code",
   "execution_count": 4,
   "metadata": {},
   "outputs": [
    {
     "name": "stdout",
     "output_type": "stream",
     "text": [
      "(25000,) (25000,)\n"
     ]
    }
   ],
   "source": [
    "print(test_data.shape, test_labels.shape)"
   ]
  },
  {
   "cell_type": "markdown",
   "metadata": {},
   "source": [
    "### 构建词表"
   ]
  },
  {
   "cell_type": "code",
   "execution_count": 14,
   "metadata": {},
   "outputs": [
    {
     "name": "stdout",
     "output_type": "stream",
     "text": [
      "88584\n"
     ]
    }
   ],
   "source": [
    "# 载入词表\n",
    "word_index = imdb.get_word_index()\n",
    "print(len(word_index))\n",
    "# print(word_index)"
   ]
  },
  {
   "cell_type": "code",
   "execution_count": 6,
   "metadata": {},
   "outputs": [],
   "source": [
    "# 索引从3开始，所以词表全部偏移3\n",
    "word_index = {k : (v + 3) for k, v in word_index.items()}"
   ]
  },
  {
   "cell_type": "code",
   "execution_count": 7,
   "metadata": {},
   "outputs": [],
   "source": [
    "# 添加必要的特殊字符\n",
    "word_index['<PAD>'] = 0 # padding填充\n",
    "word_index['<START>'] = 1 # 开始\n",
    "word_index['<UNK>'] = 2 # 找不到时填补\n",
    "word_index['<EOS>'] = 3 # 结束\n",
    "\n",
    "# 构建倒排索引：id到词的索引\n",
    "reverse_word_index = dict([(value, key) for key, value in word_index.items()])"
   ]
  },
  {
   "cell_type": "code",
   "execution_count": 8,
   "metadata": {},
   "outputs": [
    {
     "data": {
      "text/plain": [
       "\"<START> this film was just brilliant casting location scenery story direction everyone's really suited the part they played and you could just imagine being there robert <UNK> is an amazing actor and now the same being director <UNK> father came from the same scottish island as myself so i loved the fact there was a real connection with this film the witty remarks throughout the film were great it was just brilliant so much that i bought the film as soon as it was released for <UNK> and would recommend it to everyone to watch and the fly fishing was amazing really cried at the end it was so sad and you know what they say if you cry at a film it must have been good and this definitely was also <UNK> to the two little boy's that played the <UNK> of norman and paul they were just brilliant children are often left out of the <UNK> list i think because the stars that play them all grown up are such a big profile for the whole film but these children are amazing and should be praised for what they have done don't you think the whole story was so lovely because it was true and was someone's life after all that was shared with us all\""
      ]
     },
     "execution_count": 8,
     "metadata": {},
     "output_type": "execute_result"
    }
   ],
   "source": [
    "# 查看train_data具体文本\n",
    "def decode_review(text_ids):\n",
    "    return ' '.join(\n",
    "        [reverse_word_index.get(word_id, '<UNK>') for word_id in text_ids])\n",
    "\n",
    "decode_review(train_data[0])"
   ]
  },
  {
   "cell_type": "markdown",
   "metadata": {},
   "source": [
    "### 变长输入处理--Padding和截断"
   ]
  },
  {
   "cell_type": "code",
   "execution_count": 9,
   "metadata": {},
   "outputs": [
    {
     "name": "stdout",
     "output_type": "stream",
     "text": [
      "[   1   14   22   16   43  530  973 1622 1385   65  458 4468   66 3941\n",
      "    4  173   36  256    5   25  100   43  838  112   50  670    2    9\n",
      "   35  480  284    5  150    4  172  112  167    2  336  385   39    4\n",
      "  172 4536 1111   17  546   38   13  447    4  192   50   16    6  147\n",
      " 2025   19   14   22    4 1920 4613  469    4   22   71   87   12   16\n",
      "   43  530   38   76   15   13 1247    4   22   17  515   17   12   16\n",
      "  626   18    2    5   62  386   12    8  316    8  106    5    4 2223\n",
      " 5244   16  480   66 3785   33    4  130   12   16   38  619    5   25\n",
      "  124   51   36  135   48   25 1415   33    6   22   12  215   28   77\n",
      "   52    5   14  407   16   82    2    8    4  107  117 5952   15  256\n",
      "    4    2    7 3766    5  723   36   71   43  530  476   26  400  317\n",
      "   46    7    4    2 1029   13  104   88    4  381   15  297   98   32\n",
      " 2071   56   26  141    6  194 7486   18    4  226   22   21  134  476\n",
      "   26  480    5  144   30 5535   18   51   36   28  224   92   25  104\n",
      "    4  226   65   16   38 1334   88   12   16  283    5   16 4472  113\n",
      "  103   32   15   16 5345   19  178   32    0    0    0    0    0    0\n",
      "    0    0    0    0    0    0    0    0    0    0    0    0    0    0\n",
      "    0    0    0    0    0    0    0    0    0    0    0    0    0    0\n",
      "    0    0    0    0    0    0    0    0    0    0    0    0    0    0\n",
      "    0    0    0    0    0    0    0    0    0    0    0    0    0    0\n",
      "    0    0    0    0    0    0    0    0    0    0    0    0    0    0\n",
      "    0    0    0    0    0    0    0    0    0    0    0    0    0    0\n",
      "    0    0    0    0    0    0    0    0    0    0    0    0    0    0\n",
      "    0    0    0    0    0    0    0    0    0    0    0    0    0    0\n",
      "    0    0    0    0    0    0    0    0    0    0    0    0    0    0\n",
      "    0    0    0    0    0    0    0    0    0    0    0    0    0    0\n",
      "    0    0    0    0    0    0    0    0    0    0    0    0    0    0\n",
      "    0    0    0    0    0    0    0    0    0    0    0    0    0    0\n",
      "    0    0    0    0    0    0    0    0    0    0    0    0    0    0\n",
      "    0    0    0    0    0    0    0    0    0    0    0    0    0    0\n",
      "    0    0    0    0    0    0    0    0    0    0    0    0    0    0\n",
      "    0    0    0    0    0    0    0    0    0    0    0    0    0    0\n",
      "    0    0    0    0    0    0    0    0    0    0    0    0    0    0\n",
      "    0    0    0    0    0    0    0    0    0    0    0    0    0    0\n",
      "    0    0    0    0    0    0    0    0    0    0    0    0    0    0\n",
      "    0    0    0    0    0    0    0    0    0    0]\n"
     ]
    }
   ],
   "source": [
    "# padding\n",
    "max_length = 500\n",
    "\n",
    "train_data = keras.preprocessing.sequence.pad_sequences(\n",
    "    train_data, value = word_index['<PAD>'], padding = 'post', maxlen = max_length)\n",
    "\n",
    "test_data = keras.preprocessing.sequence.pad_sequences(\n",
    "    test_data, value = word_index['<PAD>'], padding = 'post', maxlen = max_length)\n",
    "\n",
    "print(train_data[0])"
   ]
  },
  {
   "cell_type": "markdown",
   "metadata": {},
   "source": [
    "## 模型构建\n",
    "\n",
    "Embedding层所做的事情：\n",
    "1. 构建一个矩阵define matrix：[vocab_size, embedding_dim]\n",
    "2. 对于每个句子中的索引[1,2,3,4..]，从上述矩阵中查得该索引对应的向量，每个样本变为max_length * embedding_dim 长度的矩阵\n",
    "3. 对于每个batch，输出数据的长度为batch_size * max_length * embedding_dim\n",
    "\n",
    "GlobalAveragePooling层：做合并\n",
    "- 将batch_size * max_length * embedding_dim 变为 batch_size * embedding_dim 的矩阵"
   ]
  },
  {
   "cell_type": "code",
   "execution_count": 10,
   "metadata": {},
   "outputs": [
    {
     "name": "stdout",
     "output_type": "stream",
     "text": [
      "Model: \"sequential\"\n",
      "_________________________________________________________________\n",
      "Layer (type)                 Output Shape              Param #   \n",
      "=================================================================\n",
      "embedding (Embedding)        (None, 500, 16)           160000    \n",
      "_________________________________________________________________\n",
      "global_average_pooling1d (Gl (None, 16)                0         \n",
      "_________________________________________________________________\n",
      "dense (Dense)                (None, 64)                1088      \n",
      "_________________________________________________________________\n",
      "dense_1 (Dense)              (None, 1)                 65        \n",
      "=================================================================\n",
      "Total params: 161,153\n",
      "Trainable params: 161,153\n",
      "Non-trainable params: 0\n",
      "_________________________________________________________________\n"
     ]
    }
   ],
   "source": [
    "embedding_dim = 16 # 每个词Embedding成长度为16的向量\n",
    "batch_size = 128\n",
    "\n",
    "model = keras.models.Sequential([\n",
    "    keras.layers.Embedding(vocab_size, embedding_dim, input_length = max_length),\n",
    "    keras.layers.GlobalAveragePooling1D(),\n",
    "    keras.layers.Dense(64, activation = 'relu'),\n",
    "    keras.layers.Dense(1, activation = 'sigmoid'),\n",
    "])\n",
    "model.summary()\n",
    "model.compile(optimizer = 'adam', loss = 'binary_crossentropy', metrics = ['accuracy'])"
   ]
  },
  {
   "cell_type": "code",
   "execution_count": 11,
   "metadata": {},
   "outputs": [
    {
     "name": "stdout",
     "output_type": "stream",
     "text": [
      "Train on 20000 samples, validate on 5000 samples\n",
      "Epoch 1/30\n",
      "20000/20000 [==============================] - 4s 193us/sample - loss: 0.6820 - accuracy: 0.6012 - val_loss: 0.6451 - val_accuracy: 0.7424\n",
      "Epoch 2/30\n",
      "20000/20000 [==============================] - 3s 133us/sample - loss: 0.5385 - accuracy: 0.8097 - val_loss: 0.4314 - val_accuracy: 0.8536\n",
      "Epoch 3/30\n",
      "20000/20000 [==============================] - 3s 136us/sample - loss: 0.3553 - accuracy: 0.8769 - val_loss: 0.3340 - val_accuracy: 0.8754\n",
      "Epoch 4/30\n",
      "20000/20000 [==============================] - 3s 132us/sample - loss: 0.2763 - accuracy: 0.8999 - val_loss: 0.3068 - val_accuracy: 0.8790\n",
      "Epoch 5/30\n",
      "20000/20000 [==============================] - 3s 130us/sample - loss: 0.2368 - accuracy: 0.9133 - val_loss: 0.2889 - val_accuracy: 0.8858\n",
      "Epoch 6/30\n",
      "20000/20000 [==============================] - 3s 130us/sample - loss: 0.2074 - accuracy: 0.9247 - val_loss: 0.2797 - val_accuracy: 0.8918\n",
      "Epoch 7/30\n",
      "20000/20000 [==============================] - 3s 131us/sample - loss: 0.1852 - accuracy: 0.9335 - val_loss: 0.2778 - val_accuracy: 0.8954\n",
      "Epoch 8/30\n",
      "20000/20000 [==============================] - 3s 133us/sample - loss: 0.1677 - accuracy: 0.9412 - val_loss: 0.2886 - val_accuracy: 0.8892\n",
      "Epoch 9/30\n",
      "20000/20000 [==============================] - 3s 142us/sample - loss: 0.1519 - accuracy: 0.9480 - val_loss: 0.2810 - val_accuracy: 0.8960\n",
      "Epoch 10/30\n",
      "20000/20000 [==============================] - 3s 150us/sample - loss: 0.1410 - accuracy: 0.9523 - val_loss: 0.2869 - val_accuracy: 0.8976\n",
      "Epoch 11/30\n",
      "20000/20000 [==============================] - 3s 131us/sample - loss: 0.1275 - accuracy: 0.9577 - val_loss: 0.2955 - val_accuracy: 0.8966\n",
      "Epoch 12/30\n",
      "20000/20000 [==============================] - 3s 132us/sample - loss: 0.1184 - accuracy: 0.9613 - val_loss: 0.3013 - val_accuracy: 0.8970\n",
      "Epoch 13/30\n",
      "20000/20000 [==============================] - 3s 130us/sample - loss: 0.1069 - accuracy: 0.9667 - val_loss: 0.3121 - val_accuracy: 0.8946\n",
      "Epoch 14/30\n",
      "20000/20000 [==============================] - 3s 134us/sample - loss: 0.0988 - accuracy: 0.9694 - val_loss: 0.3223 - val_accuracy: 0.8944\n",
      "Epoch 15/30\n",
      "20000/20000 [==============================] - 3s 132us/sample - loss: 0.0909 - accuracy: 0.9726 - val_loss: 0.3359 - val_accuracy: 0.8936\n",
      "Epoch 16/30\n",
      "20000/20000 [==============================] - 3s 132us/sample - loss: 0.0847 - accuracy: 0.9744 - val_loss: 0.3445 - val_accuracy: 0.8928\n",
      "Epoch 17/30\n",
      "20000/20000 [==============================] - 3s 144us/sample - loss: 0.0779 - accuracy: 0.9779 - val_loss: 0.3578 - val_accuracy: 0.8918\n",
      "Epoch 18/30\n",
      "20000/20000 [==============================] - 3s 136us/sample - loss: 0.0704 - accuracy: 0.9808 - val_loss: 0.3719 - val_accuracy: 0.8904\n",
      "Epoch 19/30\n",
      "20000/20000 [==============================] - 3s 137us/sample - loss: 0.0650 - accuracy: 0.9823 - val_loss: 0.3952 - val_accuracy: 0.8858\n",
      "Epoch 20/30\n",
      "20000/20000 [==============================] - 3s 131us/sample - loss: 0.0594 - accuracy: 0.9850 - val_loss: 0.4003 - val_accuracy: 0.8860\n",
      "Epoch 21/30\n",
      "20000/20000 [==============================] - 3s 131us/sample - loss: 0.0546 - accuracy: 0.9862 - val_loss: 0.4213 - val_accuracy: 0.8834\n",
      "Epoch 22/30\n",
      "20000/20000 [==============================] - 3s 131us/sample - loss: 0.0505 - accuracy: 0.9876 - val_loss: 0.4334 - val_accuracy: 0.8838\n",
      "Epoch 23/30\n",
      "20000/20000 [==============================] - 3s 130us/sample - loss: 0.0445 - accuracy: 0.9897 - val_loss: 0.4494 - val_accuracy: 0.8858\n",
      "Epoch 24/30\n",
      "20000/20000 [==============================] - 3s 133us/sample - loss: 0.0399 - accuracy: 0.9913 - val_loss: 0.4673 - val_accuracy: 0.8838\n",
      "Epoch 25/30\n",
      "20000/20000 [==============================] - 3s 127us/sample - loss: 0.0354 - accuracy: 0.9923 - val_loss: 0.4954 - val_accuracy: 0.8824\n",
      "Epoch 26/30\n",
      "20000/20000 [==============================] - 3s 133us/sample - loss: 0.0324 - accuracy: 0.9934 - val_loss: 0.5010 - val_accuracy: 0.8828\n",
      "Epoch 27/30\n",
      "20000/20000 [==============================] - 3s 136us/sample - loss: 0.0297 - accuracy: 0.9938 - val_loss: 0.5312 - val_accuracy: 0.8808\n",
      "Epoch 28/30\n",
      "20000/20000 [==============================] - 3s 132us/sample - loss: 0.0273 - accuracy: 0.9955 - val_loss: 0.5404 - val_accuracy: 0.8804\n",
      "Epoch 29/30\n",
      "20000/20000 [==============================] - 3s 130us/sample - loss: 0.0237 - accuracy: 0.9962 - val_loss: 0.5583 - val_accuracy: 0.8796\n",
      "Epoch 30/30\n",
      "20000/20000 [==============================] - 3s 133us/sample - loss: 0.0215 - accuracy: 0.9966 - val_loss: 0.5778 - val_accuracy: 0.8784\n"
     ]
    }
   ],
   "source": [
    "# 训练\n",
    "history = model.fit(train_data, train_labels, epochs = 30,\n",
    "                    batch_size = batch_size, validation_split = 0.2)"
   ]
  },
  {
   "cell_type": "code",
   "execution_count": 12,
   "metadata": {},
   "outputs": [
    {
     "data": {
      "image/png": "[encoded data removed]",
      "text/plain": [
       "<Figure size 576x360 with 1 Axes>"
      ]
     },
     "metadata": {
      "needs_background": "light"
     },
     "output_type": "display_data"
    },
    {
     "data": {
      "image/png": "[encoded data removed]",
      "text/plain": [
       "<Figure size 576x360 with 1 Axes>"
      ]
     },
     "metadata": {
      "needs_background": "light"
     },
     "output_type": "display_data"
    }
   ],
   "source": [
    "def plot_learning_curves(history, label, epochs, min_value, max_value):\n",
    "    data = {}\n",
    "    data[label] = history.history[label]\n",
    "    data['val_'+label] = history.history['val_'+label]\n",
    "    pd.DataFrame(data).plot(figsize=(8, 5))\n",
    "    plt.grid(True)\n",
    "    plt.axis([0, epochs, min_value, max_value])\n",
    "    plt.show()\n",
    "    \n",
    "plot_learning_curves(history, 'accuracy', 30, 0, 1)\n",
    "plot_learning_curves(history, 'loss', 30, 0, 1)"
   ]
  },
  {
   "cell_type": "code",
   "execution_count": null,
   "metadata": {
    "scrolled": true
   },
   "outputs": [],
   "source": [
    "model.evaluate(test_data, test_labels, batch_size = batch_size)"
   ]
  },
  {
   "cell_type": "code",
   "execution_count": null,
   "metadata": {},
   "outputs": [],
   "source": []
  }
 ],
 "metadata": {
  "kernelspec": {
   "display_name": "Python 3",
   "language": "python",
   "name": "python3"
  },
  "language_info": {
   "codemirror_mode": {
    "name": "ipython",
    "version": 3
   },
   "file_extension": ".py",
   "mimetype": "text/x-python",
   "name": "python",
   "nbconvert_exporter": "python",
   "pygments_lexer": "ipython3",
   "version": "3.6.10"
  }
 },
 "nbformat": 4,
 "nbformat_minor": 4
}
