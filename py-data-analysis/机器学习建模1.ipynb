{
 "cells": [
  {
   "cell_type": "markdown",
   "metadata": {},
   "source": [
    "# 机器学习建模"
   ]
  },
  {
   "cell_type": "code",
   "execution_count": 2,
   "metadata": {},
   "outputs": [],
   "source": [
    "# 导包\n",
    "import pandas as pd\n",
    "import numpy as np\n",
    "# 预处理\n",
    "from sklearn.preprocessing import MinMaxScaler,StandardScaler\n",
    "from sklearn.preprocessing import LabelEncoder,OneHotEncoder\n",
    "from sklearn.preprocessing import Normalizer\n",
    "from sklearn.discriminant_analysis import LinearDiscriminantAnalysis\n",
    "from sklearn.decomposition import PCA\n",
    "# 建模\n",
    "from sklearn.model_selection import train_test_split\n",
    "\n",
    "# 把Graphviz加入path环境变量\n",
    "# import os\n",
    "# os.environ['PATH'] += os.pathsep + 'C:\\Program Files (x86)\\Graphviz2.38\\bin'"
   ]
  },
  {
   "cell_type": "code",
   "execution_count": 3,
   "metadata": {},
   "outputs": [
    {
     "data": {
      "text/plain": [
       "(       satisfaction_level  last_evaluation  number_project  \\\n",
       " 0                0.318681         0.265625             0.0   \n",
       " 1                0.780220         0.781250             0.6   \n",
       " 2                0.021978         0.812500             1.0   \n",
       " 3                0.692308         0.796875             0.6   \n",
       " 4                0.307692         0.250000             0.0   \n",
       " ...                   ...              ...             ...   \n",
       " 14994            0.340659         0.328125             0.0   \n",
       " 14995            0.307692         0.187500             0.0   \n",
       " 14996            0.307692         0.265625             0.0   \n",
       " 14997            0.021978         0.937500             0.8   \n",
       " 14998            0.307692         0.250000             0.0   \n",
       " \n",
       "        average_monthly_hours  time_spend_company  Work_accident  \\\n",
       " 0                   0.285047               0.125            0.0   \n",
       " 1                   0.775701               0.500            0.0   \n",
       " 2                   0.822430               0.250            0.0   \n",
       " 3                   0.593458               0.375            0.0   \n",
       " 4                   0.294393               0.125            0.0   \n",
       " ...                      ...                 ...            ...   \n",
       " 14994               0.257009               0.125            0.0   \n",
       " 14995               0.299065               0.125            0.0   \n",
       " 14996               0.219626               0.125            0.0   \n",
       " 14997               0.859813               0.250            0.0   \n",
       " 14998               0.289720               0.125            0.0   \n",
       " \n",
       "        promotion_last_5years  department  salary  \n",
       " 0                        0.0    0.777778     0.0  \n",
       " 1                        0.0    0.777778     0.5  \n",
       " 2                        0.0    0.777778     0.5  \n",
       " 3                        0.0    0.777778     0.0  \n",
       " 4                        0.0    0.777778     0.0  \n",
       " ...                      ...         ...     ...  \n",
       " 14994                    0.0    0.888889     0.0  \n",
       " 14995                    0.0    0.888889     0.0  \n",
       " 14996                    0.0    0.888889     0.0  \n",
       " 14997                    0.0    0.888889     0.0  \n",
       " 14998                    0.0    0.888889     0.0  \n",
       " \n",
       " [14999 rows x 9 columns], 0        1\n",
       " 1        1\n",
       " 2        1\n",
       " 3        1\n",
       " 4        1\n",
       "         ..\n",
       " 14994    1\n",
       " 14995    1\n",
       " 14996    1\n",
       " 14997    1\n",
       " 14998    1\n",
       " Name: left, Length: 14999, dtype: int64)"
      ]
     },
     "execution_count": 3,
     "metadata": {},
     "output_type": "execute_result"
    }
   ],
   "source": [
    "# 总的预处理函数\n",
    "def hr_preprocessing(sl=False,le=False,npr=False,amh=False,tsc=False,wa=False,pl5=False,slr=False,dp=False,lower_d=False,ld_n=1):\n",
    "    # 读数据\n",
    "    df = pd.read_csv('./data/HR.csv')\n",
    "    # 1.清洗数据\n",
    "    df = df.dropna(subset=['satisfaction_level'])\n",
    "    df = df[df['last_evaluation']<=1][df['salary']!='nme']\n",
    "    # 2.得到标注\n",
    "    label = df['left']\n",
    "    df = df.drop('left',axis=1)\n",
    "    # 3.特征选择，特征较少，先不删除特征\n",
    "    # 4.特征处理\n",
    "    # 连续属性\n",
    "    scaler_lst = [sl,le,npr,amh,tsc,wa,pl5]\n",
    "    column_lst = ['satisfaction_level','last_evaluation','number_project','average_monthly_hours',\n",
    "                 'time_spend_company','Work_accident','promotion_last_5years']\n",
    "    for i in range(len(scaler_lst)):\n",
    "        if not scaler_lst[i]:\n",
    "            df[column_lst[i]] = MinMaxScaler().fit_transform(df[column_lst[i]].values.reshape(-1,1))\n",
    "        else:\n",
    "            df[column_lst[i]] = StandardScaler().fit_transform(df[column_lst[i]].values.reshape(-1,1))\n",
    "    # 离散属性\n",
    "    # 数值化重写map函数，把salary对应到我们想要的数值\n",
    "    def map_salary(s):\n",
    "        d = dict([('low',0),('medium',1),('high',2)])\n",
    "        return d.get(s,0)\n",
    "    scaler_lst = [slr,dp]\n",
    "    column_lst = ['salary','department']\n",
    "    for i in range(len(scaler_lst)):\n",
    "        if not scaler_lst[i]:\n",
    "            if column_lst[i] == 'salary':\n",
    "                df[column_lst[i]] = [map_salary(s) for s in df['salary'].values]\n",
    "            else:\n",
    "                df[column_lst[i]] = LabelEncoder().fit_transform(df[column_lst[i]])\n",
    "            # 归一化处理\n",
    "            df[column_lst[i]] = MinMaxScaler().fit_transform(df[column_lst[i]].values.reshape(-1, 1))\n",
    "        else:\n",
    "            df = pd.get_dummies(df,columns=[column_lst[i]])\n",
    "    # 5.降维\n",
    "    if lower_d:\n",
    "        # 因为标注只有两类，LDA降维只剩1类，所以不使用LDA，使用PCA\n",
    "        # return LinearDiscriminantAnalysis(n_components=ld_n)\n",
    "        return PCA(n_components=ld_n).fit_transform(df.values),label\n",
    "    return df,label\n",
    "\n",
    "features,label = hr_preprocessing()\n",
    "features,label"
   ]
  },
  {
   "cell_type": "markdown",
   "metadata": {},
   "source": [
    "## 数据集切分为训练集、测试集、验证集"
   ]
  },
  {
   "cell_type": "code",
   "execution_count": 23,
   "metadata": {},
   "outputs": [
    {
     "name": "stdout",
     "output_type": "stream",
     "text": [
      "8999 3000 3000\n"
     ]
    },
    {
     "data": {
      "text/plain": [
       "(array([[0.84615385, 0.5       , 0.        , ..., 0.        , 0.66666667,\n",
       "         1.        ],\n",
       "        [0.56043956, 0.671875  , 0.6       , ..., 0.        , 0.88888889,\n",
       "         0.        ],\n",
       "        [0.67032967, 0.609375  , 0.2       , ..., 0.        , 1.        ,\n",
       "         0.        ],\n",
       "        ...,\n",
       "        [0.43956044, 0.21875   , 0.4       , ..., 0.        , 0.88888889,\n",
       "         0.5       ],\n",
       "        [0.40659341, 0.1875    , 0.        , ..., 0.        , 1.        ,\n",
       "         0.        ],\n",
       "        [0.30769231, 0.421875  , 0.4       , ..., 0.        , 0.77777778,\n",
       "         0.5       ]]),\n",
       " array([0, 0, 0, ..., 0, 1, 0], dtype=int64),\n",
       " array([[0.30769231, 0.15625   , 0.        , ..., 0.        , 0.77777778,\n",
       "         0.        ],\n",
       "        [0.47252747, 0.515625  , 0.8       , ..., 0.        , 0.55555556,\n",
       "         0.5       ],\n",
       "        [0.69230769, 0.5       , 0.2       , ..., 0.        , 0.66666667,\n",
       "         0.5       ],\n",
       "        ...,\n",
       "        [0.16483516, 0.046875  , 0.4       , ..., 0.        , 0.66666667,\n",
       "         1.        ],\n",
       "        [0.50549451, 0.828125  , 0.4       , ..., 0.        , 0.11111111,\n",
       "         0.        ],\n",
       "        [0.31868132, 0.484375  , 0.        , ..., 0.        , 1.        ,\n",
       "         0.        ]]),\n",
       " array([1, 0, 0, ..., 0, 0, 0], dtype=int64),\n",
       " array([[0.53846154, 0.515625  , 0.2       , ..., 0.        , 0.88888889,\n",
       "         0.        ],\n",
       "        [0.56043956, 0.546875  , 0.6       , ..., 0.        , 0.        ,\n",
       "         0.5       ],\n",
       "        [0.01098901, 0.78125   , 0.6       , ..., 0.        , 1.        ,\n",
       "         0.        ],\n",
       "        ...,\n",
       "        [0.02197802, 0.890625  , 0.8       , ..., 0.        , 0.77777778,\n",
       "         0.5       ],\n",
       "        [0.84615385, 0.921875  , 0.4       , ..., 0.        , 0.77777778,\n",
       "         0.5       ],\n",
       "        [0.20879121, 0.140625  , 0.8       , ..., 0.        , 0.22222222,\n",
       "         0.        ]]),\n",
       " array([0, 0, 1, ..., 1, 1, 1], dtype=int64))"
      ]
     },
     "execution_count": 23,
     "metadata": {},
     "output_type": "execute_result"
    }
   ],
   "source": [
    "def hr_modeling(features,label):\n",
    "    f_v = features.values\n",
    "    l_v = label.values\n",
    "    f_names = features.columns.values\n",
    "    # 切分数据集，6:2:2\n",
    "    X_tt,X_validation,Y_tt,Y_validation = train_test_split(f_v,l_v,test_size=0.2)\n",
    "    X_train,X_test,Y_train,Y_test = train_test_split(X_tt,Y_tt,test_size=0.25)\n",
    "    print(len(X_train),len(X_validation),len(X_test))\n",
    "    return X_train,Y_train,X_test,Y_test,X_validation,Y_validation,f_names\n",
    "\n",
    "X_train,Y_train,X_test,Y_test,X_validation,Y_validation,f_names = hr_modeling(features,label)\n",
    "X_train,Y_train,X_test,Y_test,X_validation,Y_validation"
   ]
  },
  {
   "cell_type": "markdown",
   "metadata": {},
   "source": [
    "## 监督学习-分类"
   ]
  },
  {
   "cell_type": "markdown",
   "metadata": {},
   "source": [
    "### KNN"
   ]
  },
  {
   "cell_type": "code",
   "execution_count": 5,
   "metadata": {},
   "outputs": [
    {
     "name": "stdout",
     "output_type": "stream",
     "text": [
      "Train\n",
      "ACC: 0.9774419379931103\n",
      "REC: 0.963363081258807\n",
      "F-Score 0.9528455284552846\n",
      "Validation\n",
      "ACC: 0.95\n",
      "REC: 0.9070422535211268\n",
      "F-Score 0.8956884561891516\n",
      "Test\n",
      "ACC: 0.9486666666666667\n",
      "REC: 0.9180327868852459\n",
      "F-Score 0.8971962616822431\n"
     ]
    }
   ],
   "source": [
    "# knn导包\n",
    "from sklearn.neighbors import NearestNeighbors,KNeighborsClassifier\n",
    "from sklearn.metrics import accuracy_score,recall_score,f1_score\n",
    "knn_clf = KNeighborsClassifier(n_neighbors=3)\n",
    "knn_clf.fit(X_train,Y_train)\n",
    "\n",
    "# 对训练集进行预测\n",
    "Y_pred = knn_clf.predict(X_train)\n",
    "print('Train')\n",
    "print('ACC:',accuracy_score(Y_train,Y_pred))\n",
    "print('REC:',recall_score(Y_train,Y_pred))\n",
    "print('F-Score',f1_score(Y_train,Y_pred))\n",
    "\n",
    "# 对验证集进行预测\n",
    "Y_pred = knn_clf.predict(X_validation)\n",
    "print('Validation')\n",
    "print('ACC:',accuracy_score(Y_validation,Y_pred))\n",
    "print('REC:',recall_score(Y_validation,Y_pred))\n",
    "print('F-Score',f1_score(Y_validation,Y_pred))\n",
    "\n",
    "# 对测试集进行预测\n",
    "Y_pred = knn_clf.predict(X_test)\n",
    "print('Test')\n",
    "print('ACC:',accuracy_score(Y_test,Y_pred))\n",
    "print('REC:',recall_score(Y_test,Y_pred))\n",
    "print('F-Score',f1_score(Y_test,Y_pred))"
   ]
  },
  {
   "cell_type": "code",
   "execution_count": 12,
   "metadata": {},
   "outputs": [
    {
     "data": {
      "text/plain": [
       "['knn_clf']"
      ]
     },
     "execution_count": 12,
     "metadata": {},
     "output_type": "execute_result"
    }
   ],
   "source": [
    "# 将训练好的模型保存\n",
    "from sklearn.externals import joblib\n",
    "joblib.dump(knn_clf,'knn_clf')"
   ]
  },
  {
   "cell_type": "code",
   "execution_count": 7,
   "metadata": {},
   "outputs": [
    {
     "name": "stdout",
     "output_type": "stream",
     "text": [
      "Test2\n",
      "ACC: 0.9486666666666667\n",
      "REC: 0.9180327868852459\n",
      "F-Score 0.8971962616822431\n"
     ]
    }
   ],
   "source": [
    "# 加载训练好的模型，并进行推理\n",
    "knn_clf2 = joblib.load('knn_clf')\n",
    "Y_pred = knn_clf2.predict(X_test)\n",
    "print('Test2')\n",
    "print('ACC:',accuracy_score(Y_test,Y_pred))\n",
    "print('REC:',recall_score(Y_test,Y_pred))\n",
    "print('F-Score',f1_score(Y_test,Y_pred))"
   ]
  },
  {
   "cell_type": "code",
   "execution_count": 14,
   "metadata": {},
   "outputs": [
    {
     "name": "stdout",
     "output_type": "stream",
     "text": [
      "0\n",
      "KNN -ACC: 0.9774419379931103\n",
      "KNN -REC: 0.963363081258807\n",
      "KNN -F1: 0.9528455284552846\n",
      "1\n",
      "KNN -ACC: 0.95\n",
      "KNN -REC: 0.9070422535211268\n",
      "KNN -F1: 0.8956884561891516\n",
      "2\n",
      "KNN -ACC: 0.9486666666666667\n",
      "KNN -REC: 0.9180327868852459\n",
      "KNN -F1: 0.8971962616822431\n"
     ]
    },
    {
     "data": {
      "text/plain": [
       "('KNN',\n",
       " KNeighborsClassifier(algorithm='auto', leaf_size=30, metric='minkowski',\n",
       "                      metric_params=None, n_jobs=None, n_neighbors=3, p=2,\n",
       "                      weights='uniform'))"
      ]
     },
     "execution_count": 14,
     "metadata": {},
     "output_type": "execute_result"
    }
   ],
   "source": [
    "# 构建模型模板\n",
    "models = []\n",
    "models.append(('KNN',knn_clf))\n",
    "def model_fit_print():\n",
    "    for clf_name,clf in models:\n",
    "        clf.fit(X_train,Y_train)\n",
    "        xy_test = [(X_train,Y_train),(X_validation,Y_validation),(X_test,Y_test)]\n",
    "        for i in range(len(xy_test)):\n",
    "            X_part = xy_test[i][0]\n",
    "            Y_part = xy_test[i][1]\n",
    "            Y_pred = clf.predict(X_part)\n",
    "            print(i)\n",
    "            print(clf_name,\"-ACC:\",accuracy_score(Y_part,Y_pred))\n",
    "            print(clf_name,\"-REC:\",recall_score(Y_part,Y_pred))\n",
    "            print(clf_name,\"-F1:\",f1_score(Y_part,Y_pred))\n",
    "        return clf_name,clf\n",
    "\n",
    "model_fit_print()"
   ]
  },
  {
   "cell_type": "markdown",
   "metadata": {},
   "source": [
    "### 朴素贝叶斯\n",
    "贝叶斯用到的值都是离散的，\n",
    "如果这些值都是二值（0,1）的话，就用伯努利贝叶斯，若值是连续的，伯努利贝叶斯也会将其二值化，\n",
    "如果值服从高斯分布，就用高斯贝叶斯"
   ]
  },
  {
   "cell_type": "code",
   "execution_count": 17,
   "metadata": {},
   "outputs": [
    {
     "name": "stdout",
     "output_type": "stream",
     "text": [
      "0\n",
      "GaussianNB -ACC: 0.8044227136348483\n",
      "GaussianNB -REC: 0.7120713950211367\n",
      "GaussianNB -F1: 0.6327212020033388\n",
      "1\n",
      "GaussianNB -ACC: 0.8013333333333333\n",
      "GaussianNB -REC: 0.7084507042253522\n",
      "GaussianNB -F1: 0.6279650436953808\n",
      "2\n",
      "GaussianNB -ACC: 0.8003333333333333\n",
      "GaussianNB -REC: 0.6707650273224044\n",
      "GaussianNB -F1: 0.6211258697027199\n"
     ]
    },
    {
     "data": {
      "text/plain": [
       "('GaussianNB', GaussianNB(priors=None, var_smoothing=1e-09))"
      ]
     },
     "execution_count": 17,
     "metadata": {},
     "output_type": "execute_result"
    }
   ],
   "source": [
    "from sklearn.naive_bayes import GaussianNB,BernoulliNB\n",
    "models = []\n",
    "models.append(('GaussianNB',GaussianNB()))\n",
    "model_fit_print()"
   ]
  },
  {
   "cell_type": "code",
   "execution_count": 19,
   "metadata": {},
   "outputs": [
    {
     "name": "stdout",
     "output_type": "stream",
     "text": [
      "0\n",
      "BernoulliNB -ACC: 0.8449827758639848\n",
      "BernoulliNB -REC: 0.5025833724753406\n",
      "BernoulliNB -F1: 0.6053748231966054\n",
      "1\n",
      "BernoulliNB -ACC: 0.8383333333333334\n",
      "BernoulliNB -REC: 0.4535211267605634\n",
      "BernoulliNB -F1: 0.5704162976085031\n",
      "2\n",
      "BernoulliNB -ACC: 0.8313333333333334\n",
      "BernoulliNB -REC: 0.43989071038251365\n",
      "BernoulliNB -F1: 0.5599999999999999\n"
     ]
    },
    {
     "data": {
      "text/plain": [
       "('BernoulliNB',\n",
       " BernoulliNB(alpha=1.0, binarize=0.0, class_prior=None, fit_prior=True))"
      ]
     },
     "execution_count": 19,
     "metadata": {},
     "output_type": "execute_result"
    }
   ],
   "source": [
    "models = []\n",
    "models.append(('BernoulliNB',BernoulliNB()))\n",
    "model_fit_print()"
   ]
  },
  {
   "cell_type": "markdown",
   "metadata": {},
   "source": [
    "### 决策树"
   ]
  },
  {
   "cell_type": "code",
   "execution_count": 20,
   "metadata": {},
   "outputs": [
    {
     "name": "stdout",
     "output_type": "stream",
     "text": [
      "0\n",
      "DecisionTree -ACC: 1.0\n",
      "DecisionTree -REC: 1.0\n",
      "DecisionTree -F1: 1.0\n",
      "1\n",
      "DecisionTree -ACC: 0.9753333333333334\n",
      "DecisionTree -REC: 0.9577464788732394\n",
      "DecisionTree -F1: 0.9483960948396094\n",
      "2\n",
      "DecisionTree -ACC: 0.9676666666666667\n",
      "DecisionTree -REC: 0.9494535519125683\n",
      "DecisionTree -F1: 0.9347679892400808\n"
     ]
    },
    {
     "data": {
      "text/plain": [
       "('DecisionTree',\n",
       " DecisionTreeClassifier(class_weight=None, criterion='gini', max_depth=None,\n",
       "                        max_features=None, max_leaf_nodes=None,\n",
       "                        min_impurity_decrease=0.0, min_impurity_split=None,\n",
       "                        min_samples_leaf=1, min_samples_split=2,\n",
       "                        min_weight_fraction_leaf=0.0, presort=False,\n",
       "                        random_state=None, splitter='best'))"
      ]
     },
     "execution_count": 20,
     "metadata": {},
     "output_type": "execute_result"
    }
   ],
   "source": [
    "from sklearn.tree import DecisionTreeClassifier,export_graphviz\n",
    "models = []\n",
    "models.append(('DecisionTreeGini',DecisionTreeClassifier()))\n",
    "model_fit_print()"
   ]
  },
  {
   "cell_type": "code",
   "execution_count": 25,
   "metadata": {},
   "outputs": [
    {
     "name": "stdout",
     "output_type": "stream",
     "text": [
      "0\n",
      "DecisionTree -ACC: 1.0\n",
      "DecisionTree -REC: 1.0\n",
      "DecisionTree -F1: 1.0\n",
      "1\n",
      "DecisionTree -ACC: 0.9746666666666667\n",
      "DecisionTree -REC: 0.9580318379160637\n",
      "DecisionTree -F1: 0.9457142857142858\n",
      "2\n",
      "DecisionTree -ACC: 0.975\n",
      "DecisionTree -REC: 0.9614325068870524\n",
      "DecisionTree -F1: 0.9490142760027193\n"
     ]
    },
    {
     "data": {
      "text/plain": [
       "True"
      ]
     },
     "execution_count": 25,
     "metadata": {},
     "output_type": "execute_result"
    }
   ],
   "source": [
    "# 将决策树可视化\n",
    "import pydotplus\n",
    "from sklearn.externals.six import StringIO\n",
    "clf_name,clf = model_fit_print()\n",
    "dot_data = export_graphviz(clf,out_file=None,\n",
    "                           feature_names=f_names,\n",
    "                           class_names=['NL','L'],\n",
    "                           filled=True,\n",
    "                           rounded=True,\n",
    "                           special_characters=True)\n",
    "graph = pydotplus.graph_from_dot_data(dot_data)\n",
    "graph.write_pdf('dt_tree.pdf')"
   ]
  },
  {
   "cell_type": "code",
   "execution_count": 26,
   "metadata": {},
   "outputs": [
    {
     "name": "stdout",
     "output_type": "stream",
     "text": [
      "0\n",
      "DecisionTreeEntropy -ACC: 1.0\n",
      "DecisionTreeEntropy -REC: 1.0\n",
      "DecisionTreeEntropy -F1: 1.0\n",
      "1\n",
      "DecisionTreeEntropy -ACC: 0.973\n",
      "DecisionTreeEntropy -REC: 0.9551374819102749\n",
      "DecisionTreeEntropy -F1: 0.9421841541755888\n",
      "2\n",
      "DecisionTreeEntropy -ACC: 0.9756666666666667\n",
      "DecisionTreeEntropy -REC: 0.9614325068870524\n",
      "DecisionTreeEntropy -F1: 0.9503063308373043\n"
     ]
    },
    {
     "data": {
      "text/plain": [
       "('DecisionTreeEntropy',\n",
       " DecisionTreeClassifier(class_weight=None, criterion='entropy', max_depth=None,\n",
       "                        max_features=None, max_leaf_nodes=None,\n",
       "                        min_impurity_decrease=0.0, min_impurity_split=None,\n",
       "                        min_samples_leaf=1, min_samples_split=2,\n",
       "                        min_weight_fraction_leaf=0.0, presort=False,\n",
       "                        random_state=None, splitter='best'))"
      ]
     },
     "execution_count": 26,
     "metadata": {},
     "output_type": "execute_result"
    }
   ],
   "source": [
    "# 使用信息增益进行决策树\n",
    "models = []\n",
    "models.append(('DecisionTreeEntropy',DecisionTreeClassifier(criterion='entropy')))\n",
    "model_fit_print()"
   ]
  },
  {
   "cell_type": "code",
   "execution_count": 28,
   "metadata": {},
   "outputs": [
    {
     "name": "stdout",
     "output_type": "stream",
     "text": [
      "0\n",
      "DecisionTreeGini2 -ACC: 0.8162018002000222\n",
      "DecisionTreeGini2 -REC: 0.6968430826369545\n",
      "DecisionTreeGini2 -F1: 0.6447594501718212\n",
      "1\n",
      "DecisionTreeGini2 -ACC: 0.8313333333333334\n",
      "DecisionTreeGini2 -REC: 0.7380607814761215\n",
      "DecisionTreeGini2 -F1: 0.6684141546526867\n",
      "2\n",
      "DecisionTreeGini2 -ACC: 0.8226666666666667\n",
      "DecisionTreeGini2 -REC: 0.7162534435261708\n",
      "DecisionTreeGini2 -F1: 0.6615776081424936\n"
     ]
    },
    {
     "data": {
      "text/plain": [
       "('DecisionTreeGini2',\n",
       " DecisionTreeClassifier(class_weight=None, criterion='gini', max_depth=None,\n",
       "                        max_features=None, max_leaf_nodes=None,\n",
       "                        min_impurity_decrease=0.1, min_impurity_split=None,\n",
       "                        min_samples_leaf=1, min_samples_split=2,\n",
       "                        min_weight_fraction_leaf=0.0, presort=False,\n",
       "                        random_state=None, splitter='best'))"
      ]
     },
     "execution_count": 28,
     "metadata": {},
     "output_type": "execute_result"
    }
   ],
   "source": [
    "# 使用最小不纯度为0.1切分进行决策树\n",
    "models = []\n",
    "models.append(('DecisionTreeGini2',DecisionTreeClassifier(min_impurity_decrease=0.1)))\n",
    "model_fit_print()"
   ]
  },
  {
   "cell_type": "markdown",
   "metadata": {},
   "source": [
    "### 支持向量机"
   ]
  },
  {
   "cell_type": "code",
   "execution_count": 31,
   "metadata": {},
   "outputs": [
    {
     "name": "stdout",
     "output_type": "stream",
     "text": [
      "0\n",
      "SVM -ACC: 0.9756639626625181\n",
      "SVM -REC: 0.9368616527390901\n",
      "SVM -F1: 0.9485311398354876\n",
      "1\n",
      "SVM -ACC: 0.9676666666666667\n",
      "SVM -REC: 0.9131693198263386\n",
      "SVM -F1: 0.9286239882266372\n",
      "2\n",
      "SVM -ACC: 0.968\n",
      "SVM -REC: 0.9297520661157025\n",
      "SVM -F1: 0.9336099585062242\n"
     ]
    },
    {
     "data": {
      "text/plain": [
       "('SVM', SVC(C=100000, cache_size=200, class_weight=None, coef0=0.0,\n",
       "     decision_function_shape='ovr', degree=3, gamma='auto', kernel='rbf',\n",
       "     max_iter=-1, probability=False, random_state=None, shrinking=True,\n",
       "     tol=0.001, verbose=False))"
      ]
     },
     "execution_count": 31,
     "metadata": {},
     "output_type": "execute_result"
    }
   ],
   "source": [
    "from sklearn.svm import SVC\n",
    "models = []\n",
    "models.append(('SVM',SVC(gamma='auto',C=100000)))\n",
    "model_fit_print()"
   ]
  },
  {
   "cell_type": "markdown",
   "metadata": {},
   "source": [
    "### 集成方法"
   ]
  },
  {
   "cell_type": "code",
   "execution_count": null,
   "metadata": {},
   "outputs": [],
   "source": []
  }
 ],
 "metadata": {
  "kernelspec": {
   "display_name": "Python 3",
   "language": "python",
   "name": "python3"
  },
  "language_info": {
   "codemirror_mode": {
    "name": "ipython",
    "version": 3
   },
   "file_extension": ".py",
   "mimetype": "text/x-python",
   "name": "python",
   "nbconvert_exporter": "python",
   "pygments_lexer": "ipython3",
   "version": "3.6.8"
  }
 },
 "nbformat": 4,
 "nbformat_minor": 4
}
